{
  "cells": [
    {
      "cell_type": "markdown",
      "metadata": {
        "id": "view-in-github",
        "colab_type": "text"
      },
      "source": [
        "<a href=\"https://colab.research.google.com/github/crystaljwang/tm10007_group_3/blob/classifier/main_code.ipynb\" target=\"_parent\"><img src=\"https://colab.research.google.com/assets/colab-badge.svg\" alt=\"Open In Colab\"/></a>"
      ]
    },
    {
      "cell_type": "markdown",
      "source": [],
      "metadata": {
        "id": "kWuBcw6X2POx"
      }
    },
    {
      "cell_type": "markdown",
      "source": [
        "# All necessary libraries\n",
        "All libraries used in this code are run here"
      ],
      "metadata": {
        "id": "JrS8Edsz2RKw"
      }
    },
    {
      "cell_type": "code",
      "execution_count": 1,
      "metadata": {
        "id": "n39THIh1idwq"
      },
      "outputs": [],
      "source": [
        "# ----- Import necessary libraries -----\n",
        "from pathlib import Path\n",
        "import pandas as pd\n",
        "import math\n",
        "import matplotlib.pyplot as plt\n",
        "import numpy as np\n",
        "\n",
        "from scipy.stats import shapiro \n",
        "from sklearn.preprocessing import MinMaxScaler\n",
        "from sklearn.model_selection import train_test_split\n",
        "from sklearn.feature_selection import VarianceThreshold, SelectFromModel\n",
        "from sklearn.linear_model import Lasso\n",
        "from sklearn.decomposition import PCA\n",
        "from sklearn.model_selection import LearningCurveDisplay, ShuffleSplit\n",
        "\n",
        "from sklearn.pipeline import make_pipeline\n",
        "from sklearn.pipeline import Pipeline\n",
        "from sklearn.linear_model import LogisticRegression\n",
        "from sklearn.svm import SVC\n",
        "from sklearn.svm import LinearSVC\n",
        "from sklearn.neighbors import KNeighborsClassifier\n",
        "from sklearn.tree import DecisionTreeClassifier\n",
        "from sklearn.ensemble import RandomForestClassifier\n",
        "from sklearn.naive_bayes import GaussianNB\n",
        "from sklearn.feature_selection import SelectKBest, f_classif\n",
        "from sklearn.metrics import classification_report, accuracy_score, precision_score, recall_score, f1_score, confusion_matrix\n",
        "from sklearn import metrics\n",
        "from sklearn.linear_model import Ridge"
      ]
    },
    {
      "cell_type": "markdown",
      "metadata": {
        "id": "LExRxWGVRAyR"
      },
      "source": [
        "# Imports\n",
        "\n",
        "The code below loads the GIST data from GitHub. This was used once to create the test and train set. It is not needed to run this again"
      ]
    },
    {
      "cell_type": "code",
      "execution_count": null,
      "metadata": {
        "colab": {
          "base_uri": "https://localhost:8080/"
        },
        "id": "HUQ41FV4Q7m9",
        "outputId": "1a99f0f3-dc1d-4e75-b8a2-837d965ad9f3"
      },
      "outputs": [
        {
          "output_type": "stream",
          "name": "stdout",
          "text": [
            "\u001b[31mERROR: git+https://github.com/crystaljwang/tm10007_group_3.git does not appear to be a Python project: neither 'setup.py' nor 'pyproject.toml' found.\u001b[0m\u001b[31m\n",
            "\u001b[0m"
          ]
        }
      ],
      "source": [
        "# # Run this to use from colab environment\n",
        "# !pip install -q --upgrade git+https://github.com/jveenland/tm10007_ml.git\n",
        "\n",
        "# # Run this to use from colab environment\n",
        "# !git clone https://github.com/jveenland/tm10007_ml.git\n",
        "\n",
        "# %cd /content/tm10007_ml/worcgist"
      ]
    },
    {
      "cell_type": "code",
      "execution_count": null,
      "metadata": {
        "colab": {
          "base_uri": "https://localhost:8080/"
        },
        "id": "gOwJctD-Ri7N",
        "outputId": "d9bff898-935b-4e08-ab19-08dd6bbafa47"
      },
      "outputs": [
        {
          "output_type": "stream",
          "name": "stdout",
          "text": [
            "The number of samples: 246\n",
            "The number of columns: 494\n"
          ]
        }
      ],
      "source": [
        "# # ---- Import data -----\n",
        "# dir = Path('.') / 'GIST_radiomicFeatures.csv'\n",
        "# data = pd.read_csv(dir, index_col=0)\n",
        "\n",
        "# print(f'The number of samples: {len(data.index)}')\n",
        "# print(f'The number of columns: {len(data.columns)}')"
      ]
    },
    {
      "cell_type": "markdown",
      "source": [
        "# Splitting the data\n",
        "This code was used to split the data the first time. To make sure we were all using the same train and test data we wrote csv files for the train and test data, that we are loading again below. This code is used once, and is not necessary to run again."
      ],
      "metadata": {
        "id": "LosnsE8Zj3Dq"
      }
    },
    {
      "cell_type": "code",
      "execution_count": null,
      "metadata": {
        "id": "mjZvZNlpidwr",
        "outputId": "f185d65d-89ca-44ae-9077-5df26255a9ab",
        "colab": {
          "base_uri": "https://localhost:8080/"
        }
      },
      "outputs": [
        {
          "output_type": "stream",
          "name": "stdout",
          "text": [
            "fatal: destination path 'tm10007_group_3' already exists and is not an empty directory.\n",
            "[Errno 2] No such file or directory: '/content/tm10007_group_3'\n",
            "/content/tm10007_ml/worcgist\n",
            "/content/tm10007_ml/worcgist\n"
          ]
        }
      ],
      "source": [
        "# # Replace label values from string to binary\n",
        "# data['label'] = data['label'].replace({'GIST': 1, 'non-GIST': 0})\n",
        "\n",
        "# # Separate the features and labels\n",
        "# X = data.drop(['label'], axis=1)\n",
        "# y = data['label']\n",
        "\n",
        "# # Split the data into random train and test sets\n",
        "# X_train_tot, X_test, y_train_tot, y_test = train_test_split(X, y, test_size=0.2, random_state=42)\n",
        "\n",
        "# # Write the X_test DataFrame to a CSV file\n",
        "# X_train_tot.to_csv('X_train_tot.csv', index=False)\n",
        "# X_test.to_csv('X_test.csv', index=False)\n",
        "# y_train_tot.to_csv('y_train_tot.csv', index=False)\n",
        "# y_test.to_csv('y_test.csv', index=False)"
      ]
    },
    {
      "cell_type": "markdown",
      "source": [
        "# Load the train data"
      ],
      "metadata": {
        "id": "zxTK4sC_ocls"
      }
    },
    {
      "cell_type": "code",
      "source": [
        "#load split data from our repository\n",
        "url = \"https://raw.githubusercontent.com/crystaljwang/tm10007_group_3/main/data/\"\n",
        "X_train_tot = pd.read_csv(url + 'X_train_tot.csv')\n",
        "y_train_tot = pd.read_csv(url + 'y_train_tot.csv')\n",
        "X_test = pd.read_csv(url + 'X_test.csv')\n",
        "y_test = pd.read_csv(url + 'y_test.csv')\n",
        "\n",
        "# Split the data into train and validation sets\n",
        "X_train, X_val, y_train, y_val = train_test_split(X_train_tot, y_train_tot, test_size=0.20, random_state=42)"
      ],
      "metadata": {
        "id": "qWDAzvu1oZ0X"
      },
      "execution_count": 114,
      "outputs": []
    },
    {
      "cell_type": "markdown",
      "source": [
        "# Exploring the data"
      ],
      "metadata": {
        "id": "HFXEtt6Rj8P8"
      }
    },
    {
      "cell_type": "code",
      "source": [
        "# Percentage GIST vs Non-GIST\n",
        "counts = y_train.value_counts(normalize=True)\n",
        "percentage_nongist = counts[0] * 100\n",
        "percentage_gist = counts[1] * 100\n",
        "\n",
        "print(f'Percentage of non-GIST in training set: {percentage_nongist:.2f}%')\n",
        "print(f'Percentage of GIST in training set: {percentage_gist:.2f}%')\n",
        "\n",
        "# Check for missing data\n",
        "if X_train.isnull().sum().sum() > 0:\n",
        "    print('Missing data found.')\n",
        "    exit()\n",
        "else:\n",
        "    print('No missing data found.')\n",
        "\n",
        "# Check for categorial values\n",
        "categorical_cols = [col for col in X_train.columns if X_train[col].dtype == 'object']\n",
        "if len(categorical_cols) > 0:\n",
        "    print(f'Categorical columns found: {categorical_cols}')\n",
        "    exit()\n",
        "else:\n",
        "    print('No categorical columns found.')\n",
        "\n",
        "# Perform Shapiro-Wilk test for normality\n",
        "p_values_above_threshold = []\n",
        "for col in X_train.columns:\n",
        "  stat, p = shapiro((X_train))\n",
        "  p_values_above_threshold.append(p > 0.05)\n",
        "  #print(f'Shapiro test for column {col}: statistic = {stat:.3f}, p-value = {p:.3f}')\n",
        "\n",
        "percent_above_threshold = sum(p_values_above_threshold) / len(p_values_above_threshold) * 100\n",
        "print(f'{percent_above_threshold:.1f} percent of the data is normally distributed.')\n",
        "\n",
        "#print('stat=%.3f, p=%.3f\\n' % (stat, p))"
      ],
      "metadata": {
        "id": "wrp508pykLGR",
        "outputId": "764b07d2-f66d-4f8f-9ebd-81b30853c195",
        "colab": {
          "base_uri": "https://localhost:8080/"
        }
      },
      "execution_count": 104,
      "outputs": [
        {
          "output_type": "stream",
          "name": "stdout",
          "text": [
            "Percentage of non-GIST in training set: 51.28%\n",
            "Percentage of GIST in training set: 48.72%\n",
            "No missing data found.\n",
            "No categorical columns found.\n"
          ]
        },
        {
          "output_type": "stream",
          "name": "stderr",
          "text": [
            "/usr/local/lib/python3.9/dist-packages/scipy/stats/_morestats.py:1816: UserWarning: p-value may not be accurate for N > 5000.\n",
            "  warnings.warn(\"p-value may not be accurate for N > 5000.\")\n"
          ]
        },
        {
          "output_type": "stream",
          "name": "stdout",
          "text": [
            "0.0 percent of the data is normally distributed.\n"
          ]
        }
      ]
    },
    {
      "cell_type": "markdown",
      "source": [
        "# Preprocessing"
      ],
      "metadata": {
        "id": "4U0h-PMmj940"
      }
    },
    {
      "cell_type": "code",
      "execution_count": 115,
      "metadata": {
        "id": "x9mCc9bUidwr"
      },
      "outputs": [],
      "source": [
        "# ----- Outliers -----\n",
        "\n",
        "def replace_outliers(X_train, X_val, X_test):\n",
        "    \"\"\"\n",
        "    Replaces the outliers in a DataFrame with the lower or upper bound.\n",
        "\n",
        "    :param data: The DataFrame to be filtered\n",
        "    :return: A new DataFrame with the outliers replaced by the lower or upper bound for each column\n",
        "    \"\"\"\n",
        "    # Calculate the lower and upper bounds based on each column's median and interquartile range\n",
        "    # based on train data\n",
        "    Q1 = X_train.quantile(0.25)\n",
        "    Q3 = X_train.quantile(0.75)\n",
        "    IQR = Q3 - Q1\n",
        "    lower_bound = Q1 - 1.5 * IQR\n",
        "    upper_bound = Q3 + 1.5 * IQR\n",
        "\n",
        "    # Replace the outliers with the lower or upper bound \n",
        "    # in train, validation and test data from train data fit\n",
        "    for col in X_train.columns:\n",
        "        X_train[col] = X_train[col].apply(lambda x: upper_bound[col] if x > upper_bound[col] else x)\n",
        "        X_train[col] = X_train[col].apply(lambda x: lower_bound[col] if x < lower_bound[col] else x)\n",
        "        X_val[col] = X_val[col].apply(lambda x: upper_bound[col] if x > upper_bound[col] else x)\n",
        "        X_val[col] = X_val[col].apply(lambda x: lower_bound[col] if x < lower_bound[col] else x)        \n",
        "        X_test[col] = X_test[col].apply(lambda x: upper_bound[col] if x > upper_bound[col] else x)\n",
        "        X_test[col] = X_test[col].apply(lambda x: lower_bound[col] if x < lower_bound[col] else x)\n",
        "  \n",
        "    return X_train, X_val, X_test\n",
        "\n",
        "# Replace the outliers in each column with the lower or upper bound\n",
        "X_train, X_val, X_test = replace_outliers(X_train, X_val, X_test)\n",
        "\n"
      ]
    },
    {
      "cell_type": "code",
      "execution_count": 117,
      "metadata": {
        "id": "XUKkjtzyidws"
      },
      "outputs": [],
      "source": [
        "# ----- Data Scaling -----\n",
        "scaler = MinMaxScaler()  # define scaler\n",
        "\n",
        "X_train = scaler.fit_transform(X_train)  # fit scaler on train set\n",
        "X_val = scaler.transform(X_val)  # apply fitted scaler on validation set\n",
        "X_test = scaler.transform(X_test)  # apply fitted scaler on test set"
      ]
    },
    {
      "cell_type": "code",
      "execution_count": 118,
      "metadata": {
        "id": "7_ogeiUgidws"
      },
      "outputs": [],
      "source": [
        "# ----- Remove zero-variance features -----\n",
        "X_train = pd.DataFrame(X_train)\n",
        "zero_var_filter = VarianceThreshold(threshold=0)\n",
        "\n",
        "# Fit on train data\n",
        "zero_var_filter.fit(X_train)\n",
        "zero_var_columns = [column for column in X_train.columns if column not in X_train.columns[zero_var_filter.get_support()]]\n",
        "\n",
        "# Apply on train, validation and test data\n",
        "X_train = zero_var_filter.transform(X_train)\n",
        "X_val = zero_var_filter.transform(X_val)\n",
        "X_test = zero_var_filter.transform(X_test)"
      ]
    },
    {
      "cell_type": "code",
      "execution_count": 119,
      "metadata": {
        "id": "4u7OWnl9idwt",
        "outputId": "897707b5-b6e1-449a-c6fd-127505d66ef9",
        "colab": {
          "base_uri": "https://localhost:8080/"
        }
      },
      "outputs": [
        {
          "output_type": "stream",
          "name": "stdout",
          "text": [
            "Selected 56 features to be used for classification.\n"
          ]
        }
      ],
      "source": [
        "# ----- Feature extraction -----\n",
        "from sklearn.decomposition import PCA\n",
        "\n",
        "# 95% variance\n",
        "pca = PCA(n_components = 0.95)  # n_components between 0 and 1 sets a variance that is covered, n_components >1 sets number of components\n",
        "pca.fit(X_train) #fit PCA on train set\n",
        "\n",
        "#Apply fitted PCA feature extraction on train, validation and test set\n",
        "X_train = pca.transform(X_train)\n",
        "X_val = pca.transform(X_val)\n",
        "X_test = pca.transform(X_test)\n",
        "\n",
        "print(f\"Selected {X_train.shape[1]} features to be used for classification.\")"
      ]
    },
    {
      "cell_type": "code",
      "execution_count": 121,
      "metadata": {
        "id": "CQMg1damidws",
        "outputId": "d3324a47-0403-46c5-fcb7-08b3f4f98097",
        "colab": {
          "base_uri": "https://localhost:8080/"
        }
      },
      "outputs": [
        {
          "output_type": "stream",
          "name": "stdout",
          "text": [
            "Selected 17 from 35 features.\n"
          ]
        }
      ],
      "source": [
        "# ----- Feature selection -----\n",
        "# lasso_selector = SelectFromModel(estimator=Lasso(alpha=10**(-10), max_iter=1000), threshold='median')\n",
        "lasso_selector = SelectFromModel(estimator=Lasso(alpha=0.02, max_iter=1000), threshold=None)  # alfa determines the penalty for regularization, higher alfa = less features\n",
        "lasso_selector.fit(X_train, y_train)\n",
        "lasso_list = [column for column in pd.DataFrame(X_train).columns[lasso_selector.get_support()]]\n",
        "n_original = X_train.shape[1]\n",
        "\n",
        "#Apply fitted feature selection on train, validation and test set\n",
        "X_train = lasso_selector.transform(X_train)\n",
        "X_val = lasso_selector.transform(X_val)\n",
        "X_test = lasso_selector.transform(X_test)\n",
        "\n",
        "#Print selected featues\n",
        "n_selected = X_train.shape[1]\n",
        "print(f\"Selected {n_selected} from {n_original} features.\")"
      ]
    },
    {
      "cell_type": "code",
      "source": [
        "##FEATURE SELECTION\n",
        "\n",
        "# Perform feature selection on the training set\n",
        "selector = SelectKBest(f_classif, k=10)  # select k best features based on statistics\n",
        "X_train = selector.fit_transform(X_train, y_train)\n",
        "\n",
        "# Apply the same feature selection to the test & validation set\n",
        "X_val = selector.transform(X_val)\n",
        "X_test = selector.transform(X_test)\n",
        "\n",
        "print(f\"Selected {X_train.shape[1]} features to be used for classification.\")"
      ],
      "metadata": {
        "id": "4hSWf9cUmyzf",
        "outputId": "a013150d-d418-4733-bc29-c4100ddeb12b",
        "colab": {
          "base_uri": "https://localhost:8080/"
        }
      },
      "execution_count": 123,
      "outputs": [
        {
          "output_type": "stream",
          "name": "stdout",
          "text": [
            "Selected 10 features to be used for classification.\n"
          ]
        },
        {
          "output_type": "stream",
          "name": "stderr",
          "text": [
            "/usr/local/lib/python3.9/dist-packages/sklearn/utils/validation.py:1143: DataConversionWarning: A column-vector y was passed when a 1d array was expected. Please change the shape of y to (n_samples, ), for example using ravel().\n",
            "  y = column_or_1d(y, warn=True)\n"
          ]
        }
      ]
    },
    {
      "cell_type": "markdown",
      "source": [
        "# Classifier\n",
        "Now the features are selected, we are testing the different classifiers."
      ],
      "metadata": {
        "id": "Lq7cQ0VF5YPN"
      }
    },
    {
      "cell_type": "code",
      "source": [
        "def learning_curve(X_train, y_train, model):\n",
        "  fig, ax = plt.subplots(nrows=1, ncols=1, figsize=(5, 6))\n",
        "\n",
        "  common_params = {\n",
        "      \"X\": X_train,\n",
        "      \"y\": y_train,\n",
        "      \"train_sizes\": np.linspace(0.1, 1.0, 5),\n",
        "      \"cv\": ShuffleSplit(n_splits=5, test_size=0.15, random_state=0),\n",
        "      \"score_type\": \"both\",\n",
        "      \"n_jobs\": 4,\n",
        "      \"line_kw\": {\"marker\": \"o\"},\n",
        "      \"std_display_style\": \"fill_between\",\n",
        "      \"score_name\": \"Accuracy\",\n",
        "  }\n",
        "\n",
        "  LearningCurveDisplay.from_estimator(model, **common_params, ax=ax)\n",
        "  handles, label = ax.get_legend_handles_labels()\n",
        "  ax.legend(handles[:2], [\"Training Score\", \"Test Score\"])\n",
        "  ax.set_title(f\"Learning Curve for {model.__class__.__name__}\")\n",
        "  plt.show()"
      ],
      "metadata": {
        "id": "gHgulxHS7tQn"
      },
      "execution_count": 112,
      "outputs": []
    },
    {
      "cell_type": "code",
      "source": [
        "##CLASSIFIERS\n",
        "\n",
        "# Prepare pipeline\n",
        "model_pipeline = []\n",
        "model_pipeline.append(LogisticRegression(max_iter = 1000))\n",
        "model_pipeline.append(SVC())\n",
        "# model_pipeline.append(LinearSVC())\n",
        "# model_pipeline.append(KNeighborsClassifier())\n",
        "# model_pipeline.append(DecisionTreeClassifier())\n",
        "# model_pipeline.append(RandomForestClassifier())\n",
        "# model_pipeline.append(GaussianNB())\n",
        "\n",
        "# model_list = ['LogisticRegression', 'SVC', 'Linear SVC', 'KNN', 'Decision Tree', 'Random Forest', 'Naive Bayes']\n",
        "model_list = ['LogisticRegression', 'SVC']\n",
        "acc_list = []\n",
        "auc_list = []\n",
        "cm_list = []\n",
        "fit_model = []\n",
        "\n",
        "# Execute pipeline\n",
        "for model in model_pipeline:\n",
        "  fit_model.append(model.fit(X_train, y_train))  # train model\n",
        "  y_pred = model.predict(X_val)  # use trained model to predict values of y\n",
        "  acc_list.append(metrics.accuracy_score(y_val, y_pred))  # calculate accuracy on prediction of y\n",
        "  fpr, tpr, _thresholds = metrics.roc_curve(y_val, y_pred)\n",
        "  auc_list.append(round(metrics.auc(fpr, tpr),2))  # calculate area under the curve on prediction of y\n",
        "  cm_list.append(confusion_matrix(y_val, y_pred))  # make confusion matrix on prediction of y\n",
        "\n",
        "  learning_curve(X_train, y_train, model)  #make a learning curve with function learning curve. NB: this is a different model than the model trained above\n",
        "\n",
        "##VALIDATION\n",
        "# Plot Model validation\n",
        "result_df = pd.DataFrame({'Model':model_list, 'Accuracy': acc_list, 'AUC': auc_list})\n",
        "result_df"
      ],
      "metadata": {
        "colab": {
          "base_uri": "https://localhost:8080/",
          "height": 1000
        },
        "id": "mfF07SND4TZ0",
        "outputId": "3b48610b-a29b-4088-c06d-0f07f418065e"
      },
      "execution_count": 128,
      "outputs": [
        {
          "output_type": "stream",
          "name": "stderr",
          "text": [
            "/usr/local/lib/python3.9/dist-packages/sklearn/utils/validation.py:1143: DataConversionWarning: A column-vector y was passed when a 1d array was expected. Please change the shape of y to (n_samples, ), for example using ravel().\n",
            "  y = column_or_1d(y, warn=True)\n"
          ]
        },
        {
          "output_type": "display_data",
          "data": {
            "text/plain": [
              "<Figure size 500x600 with 1 Axes>"
            ],
            "image/png": "[encoded data removed]"
          },
          "metadata": {}
        },
        {
          "output_type": "stream",
          "name": "stderr",
          "text": [
            "/usr/local/lib/python3.9/dist-packages/sklearn/utils/validation.py:1143: DataConversionWarning: A column-vector y was passed when a 1d array was expected. Please change the shape of y to (n_samples, ), for example using ravel().\n",
            "  y = column_or_1d(y, warn=True)\n"
          ]
        },
        {
          "output_type": "display_data",
          "data": {
            "text/plain": [
              "<Figure size 500x600 with 1 Axes>"
            ],
            "image/png": "[encoded data removed]"
          },
          "metadata": {}
        },
        {
          "output_type": "execute_result",
          "data": {
            "text/plain": [
              "                Model  Accuracy   AUC\n",
              "0  LogisticRegression     0.625  0.62\n",
              "1                 SVC     0.550  0.55"
            ],
            "text/html": [
              "\n",
              "  <div id=\"df-01fe1608-35fb-4e27-94ee-b34a14f0a402\">\n",
              "    <div class=\"colab-df-container\">\n",
              "      <div>\n",
              "<style scoped>\n",
              "    .dataframe tbody tr th:only-of-type {\n",
              "        vertical-align: middle;\n",
              "    }\n",
              "\n",
              "    .dataframe tbody tr th {\n",
              "        vertical-align: top;\n",
              "    }\n",
              "\n",
              "    .dataframe thead th {\n",
              "        text-align: right;\n",
              "    }\n",
              "</style>\n",
              "<table border=\"1\" class=\"dataframe\">\n",
              "  <thead>\n",
              "    <tr style=\"text-align: right;\">\n",
              "      <th></th>\n",
              "      <th>Model</th>\n",
              "      <th>Accuracy</th>\n",
              "      <th>AUC</th>\n",
              "    </tr>\n",
              "  </thead>\n",
              "  <tbody>\n",
              "    <tr>\n",
              "      <th>0</th>\n",
              "      <td>LogisticRegression</td>\n",
              "      <td>0.625</td>\n",
              "      <td>0.62</td>\n",
              "    </tr>\n",
              "    <tr>\n",
              "      <th>1</th>\n",
              "      <td>SVC</td>\n",
              "      <td>0.550</td>\n",
              "      <td>0.55</td>\n",
              "    </tr>\n",
              "  </tbody>\n",
              "</table>\n",
              "</div>\n",
              "      <button class=\"colab-df-convert\" onclick=\"convertToInteractive('df-01fe1608-35fb-4e27-94ee-b34a14f0a402')\"\n",
              "              title=\"Convert this dataframe to an interactive table.\"\n",
              "              style=\"display:none;\">\n",
              "        \n",
              "  <svg xmlns=\"http://www.w3.org/2000/svg\" height=\"24px\"viewBox=\"0 0 24 24\"\n",
              "       width=\"24px\">\n",
              "    <path d=\"M0 0h24v24H0V0z\" fill=\"none\"/>\n",
              "    <path d=\"M18.56 5.44l.94 2.06.94-2.06 2.06-.94-2.06-.94-.94-2.06-.94 2.06-2.06.94zm-11 1L8.5 8.5l.94-2.06 2.06-.94-2.06-.94L8.5 2.5l-.94 2.06-2.06.94zm10 10l.94 2.06.94-2.06 2.06-.94-2.06-.94-.94-2.06-.94 2.06-2.06.94z\"/><path d=\"M17.41 7.96l-1.37-1.37c-.4-.4-.92-.59-1.43-.59-.52 0-1.04.2-1.43.59L10.3 9.45l-7.72 7.72c-.78.78-.78 2.05 0 2.83L4 21.41c.39.39.9.59 1.41.59.51 0 1.02-.2 1.41-.59l7.78-7.78 2.81-2.81c.8-.78.8-2.07 0-2.86zM5.41 20L4 18.59l7.72-7.72 1.47 1.35L5.41 20z\"/>\n",
              "  </svg>\n",
              "      </button>\n",
              "      \n",
              "  <style>\n",
              "    .colab-df-container {\n",
              "      display:flex;\n",
              "      flex-wrap:wrap;\n",
              "      gap: 12px;\n",
              "    }\n",
              "\n",
              "    .colab-df-convert {\n",
              "      background-color: #E8F0FE;\n",
              "      border: none;\n",
              "      border-radius: 50%;\n",
              "      cursor: pointer;\n",
              "      display: none;\n",
              "      fill: #1967D2;\n",
              "      height: 32px;\n",
              "      padding: 0 0 0 0;\n",
              "      width: 32px;\n",
              "    }\n",
              "\n",
              "    .colab-df-convert:hover {\n",
              "      background-color: #E2EBFA;\n",
              "      box-shadow: 0px 1px 2px rgba(60, 64, 67, 0.3), 0px 1px 3px 1px rgba(60, 64, 67, 0.15);\n",
              "      fill: #174EA6;\n",
              "    }\n",
              "\n",
              "    [theme=dark] .colab-df-convert {\n",
              "      background-color: #3B4455;\n",
              "      fill: #D2E3FC;\n",
              "    }\n",
              "\n",
              "    [theme=dark] .colab-df-convert:hover {\n",
              "      background-color: #434B5C;\n",
              "      box-shadow: 0px 1px 3px 1px rgba(0, 0, 0, 0.15);\n",
              "      filter: drop-shadow(0px 1px 2px rgba(0, 0, 0, 0.3));\n",
              "      fill: #FFFFFF;\n",
              "    }\n",
              "  </style>\n",
              "\n",
              "      <script>\n",
              "        const buttonEl =\n",
              "          document.querySelector('#df-01fe1608-35fb-4e27-94ee-b34a14f0a402 button.colab-df-convert');\n",
              "        buttonEl.style.display =\n",
              "          google.colab.kernel.accessAllowed ? 'block' : 'none';\n",
              "\n",
              "        async function convertToInteractive(key) {\n",
              "          const element = document.querySelector('#df-01fe1608-35fb-4e27-94ee-b34a14f0a402');\n",
              "          const dataTable =\n",
              "            await google.colab.kernel.invokeFunction('convertToInteractive',\n",
              "                                                     [key], {});\n",
              "          if (!dataTable) return;\n",
              "\n",
              "          const docLinkHtml = 'Like what you see? Visit the ' +\n",
              "            '<a target=\"_blank\" href=https://colab.research.google.com/notebooks/data_table.ipynb>data table notebook</a>'\n",
              "            + ' to learn more about interactive tables.';\n",
              "          element.innerHTML = '';\n",
              "          dataTable['output_type'] = 'display_data';\n",
              "          await google.colab.output.renderOutput(dataTable, element);\n",
              "          const docLink = document.createElement('div');\n",
              "          docLink.innerHTML = docLinkHtml;\n",
              "          element.appendChild(docLink);\n",
              "        }\n",
              "      </script>\n",
              "    </div>\n",
              "  </div>\n",
              "  "
            ]
          },
          "metadata": {},
          "execution_count": 128
        }
      ]
    },
    {
      "cell_type": "code",
      "source": [
        "# ----- TEST SET ------\n",
        "\n",
        "# Prepare pipeline\n",
        "acc_list = []\n",
        "auc_list = []\n",
        "cm_list = []\n",
        "\n",
        "# Execute pipeline\n",
        "for model in fit_model:\n",
        "  y_pred = model.predict(X_test)\n",
        "  acc_list.append(metrics.accuracy_score(y_test, y_pred))\n",
        "  fpr, tpr, _thresholds = metrics.roc_curve(y_test, y_pred)\n",
        "  auc_list.append(round(metrics.auc(fpr, tpr),2))\n",
        "  cm_list.append(confusion_matrix(y_test, y_pred))\n",
        "\n",
        "##VALIDATION\n",
        "# Plot Model validation\n",
        "result_df = pd.DataFrame({'Model':model_list, 'Accuracy': acc_list, 'AUC': auc_list})\n",
        "result_df"
      ],
      "metadata": {
        "colab": {
          "base_uri": "https://localhost:8080/",
          "height": 112
        },
        "id": "iHGIPfjB_eb7",
        "outputId": "163bd1cf-f75a-4aab-c314-2f4dfc9c53a6"
      },
      "execution_count": 129,
      "outputs": [
        {
          "output_type": "execute_result",
          "data": {
            "text/plain": [
              "                Model  Accuracy   AUC\n",
              "0  LogisticRegression      0.52  0.53\n",
              "1                 SVC      0.52  0.53"
            ],
            "text/html": [
              "\n",
              "  <div id=\"df-11ad76d5-31c6-4277-849b-2bc2f755e778\">\n",
              "    <div class=\"colab-df-container\">\n",
              "      <div>\n",
              "<style scoped>\n",
              "    .dataframe tbody tr th:only-of-type {\n",
              "        vertical-align: middle;\n",
              "    }\n",
              "\n",
              "    .dataframe tbody tr th {\n",
              "        vertical-align: top;\n",
              "    }\n",
              "\n",
              "    .dataframe thead th {\n",
              "        text-align: right;\n",
              "    }\n",
              "</style>\n",
              "<table border=\"1\" class=\"dataframe\">\n",
              "  <thead>\n",
              "    <tr style=\"text-align: right;\">\n",
              "      <th></th>\n",
              "      <th>Model</th>\n",
              "      <th>Accuracy</th>\n",
              "      <th>AUC</th>\n",
              "    </tr>\n",
              "  </thead>\n",
              "  <tbody>\n",
              "    <tr>\n",
              "      <th>0</th>\n",
              "      <td>LogisticRegression</td>\n",
              "      <td>0.52</td>\n",
              "      <td>0.53</td>\n",
              "    </tr>\n",
              "    <tr>\n",
              "      <th>1</th>\n",
              "      <td>SVC</td>\n",
              "      <td>0.52</td>\n",
              "      <td>0.53</td>\n",
              "    </tr>\n",
              "  </tbody>\n",
              "</table>\n",
              "</div>\n",
              "      <button class=\"colab-df-convert\" onclick=\"convertToInteractive('df-11ad76d5-31c6-4277-849b-2bc2f755e778')\"\n",
              "              title=\"Convert this dataframe to an interactive table.\"\n",
              "              style=\"display:none;\">\n",
              "        \n",
              "  <svg xmlns=\"http://www.w3.org/2000/svg\" height=\"24px\"viewBox=\"0 0 24 24\"\n",
              "       width=\"24px\">\n",
              "    <path d=\"M0 0h24v24H0V0z\" fill=\"none\"/>\n",
              "    <path d=\"M18.56 5.44l.94 2.06.94-2.06 2.06-.94-2.06-.94-.94-2.06-.94 2.06-2.06.94zm-11 1L8.5 8.5l.94-2.06 2.06-.94-2.06-.94L8.5 2.5l-.94 2.06-2.06.94zm10 10l.94 2.06.94-2.06 2.06-.94-2.06-.94-.94-2.06-.94 2.06-2.06.94z\"/><path d=\"M17.41 7.96l-1.37-1.37c-.4-.4-.92-.59-1.43-.59-.52 0-1.04.2-1.43.59L10.3 9.45l-7.72 7.72c-.78.78-.78 2.05 0 2.83L4 21.41c.39.39.9.59 1.41.59.51 0 1.02-.2 1.41-.59l7.78-7.78 2.81-2.81c.8-.78.8-2.07 0-2.86zM5.41 20L4 18.59l7.72-7.72 1.47 1.35L5.41 20z\"/>\n",
              "  </svg>\n",
              "      </button>\n",
              "      \n",
              "  <style>\n",
              "    .colab-df-container {\n",
              "      display:flex;\n",
              "      flex-wrap:wrap;\n",
              "      gap: 12px;\n",
              "    }\n",
              "\n",
              "    .colab-df-convert {\n",
              "      background-color: #E8F0FE;\n",
              "      border: none;\n",
              "      border-radius: 50%;\n",
              "      cursor: pointer;\n",
              "      display: none;\n",
              "      fill: #1967D2;\n",
              "      height: 32px;\n",
              "      padding: 0 0 0 0;\n",
              "      width: 32px;\n",
              "    }\n",
              "\n",
              "    .colab-df-convert:hover {\n",
              "      background-color: #E2EBFA;\n",
              "      box-shadow: 0px 1px 2px rgba(60, 64, 67, 0.3), 0px 1px 3px 1px rgba(60, 64, 67, 0.15);\n",
              "      fill: #174EA6;\n",
              "    }\n",
              "\n",
              "    [theme=dark] .colab-df-convert {\n",
              "      background-color: #3B4455;\n",
              "      fill: #D2E3FC;\n",
              "    }\n",
              "\n",
              "    [theme=dark] .colab-df-convert:hover {\n",
              "      background-color: #434B5C;\n",
              "      box-shadow: 0px 1px 3px 1px rgba(0, 0, 0, 0.15);\n",
              "      filter: drop-shadow(0px 1px 2px rgba(0, 0, 0, 0.3));\n",
              "      fill: #FFFFFF;\n",
              "    }\n",
              "  </style>\n",
              "\n",
              "      <script>\n",
              "        const buttonEl =\n",
              "          document.querySelector('#df-11ad76d5-31c6-4277-849b-2bc2f755e778 button.colab-df-convert');\n",
              "        buttonEl.style.display =\n",
              "          google.colab.kernel.accessAllowed ? 'block' : 'none';\n",
              "\n",
              "        async function convertToInteractive(key) {\n",
              "          const element = document.querySelector('#df-11ad76d5-31c6-4277-849b-2bc2f755e778');\n",
              "          const dataTable =\n",
              "            await google.colab.kernel.invokeFunction('convertToInteractive',\n",
              "                                                     [key], {});\n",
              "          if (!dataTable) return;\n",
              "\n",
              "          const docLinkHtml = 'Like what you see? Visit the ' +\n",
              "            '<a target=\"_blank\" href=https://colab.research.google.com/notebooks/data_table.ipynb>data table notebook</a>'\n",
              "            + ' to learn more about interactive tables.';\n",
              "          element.innerHTML = '';\n",
              "          dataTable['output_type'] = 'display_data';\n",
              "          await google.colab.output.renderOutput(dataTable, element);\n",
              "          const docLink = document.createElement('div');\n",
              "          docLink.innerHTML = docLinkHtml;\n",
              "          element.appendChild(docLink);\n",
              "        }\n",
              "      </script>\n",
              "    </div>\n",
              "  </div>\n",
              "  "
            ]
          },
          "metadata": {},
          "execution_count": 129
        }
      ]
    },
    {
      "cell_type": "code",
      "source": [
        "##Hyperparameters KNN classifier\n",
        "import numpy as np\n",
        "from sklearn.feature_selection import SelectKBest,f_regression\n",
        "from sklearn.pipeline import Pipeline\n",
        "from sklearn.linear_model import LinearRegression\n",
        "from sklearn.neighbors import KNeighborsRegressor\n",
        "from sklearn.preprocessing import StandardScaler\n",
        "from sklearn.ensemble import RandomForestRegressor\n",
        "from sklearn.model_selection import GridSearchCV\n",
        "from sklearn.model_selection import RandomizedSearchCV\n",
        "from sklearn.metrics import mean_squared_error\n",
        "from sklearn.neighbors import KNeighborsClassifier\n",
        "from sklearn.ensemble import GradientBoostingClassifier, RandomForestClassifier\n",
        "from sklearn.linear_model import LogisticRegression, RidgeClassifier\n",
        "from sklearn import svm\n",
        "\n",
        "# search = GridSearchCV(\n",
        "#     estimator = KNeighborsClassifier(),\n",
        "#     param_grid = {'n_neighbors': list(range(1,51,2)), \n",
        "#                   'weights': ['uniform', 'distance'],\n",
        "#                   'metric': ['euclidean', 'manhattan', 'minkowski']},\n",
        "#     scoring=\"roc_auc\",\n",
        "#     cv=5,\n",
        "#     verbose=3,\n",
        "#     n_jobs=-1)\n",
        "\n",
        "search = RandomizedSearchCV(\n",
        "          KNeighborsClassifier(),\n",
        "          {'n_neighbors': list(range(1,20,1)), \n",
        "                  'weights': ['uniform', 'distance'],\n",
        "                  'metric': ['euclidean', 'manhattan', 'minkowski']},\n",
        "          n_iter=500, scoring='accuracy', n_jobs=-1, cv=3, random_state=1)\n",
        "\n",
        "# execute search\n",
        "result = search.fit(X_train, y_train)\n",
        "# summarize result\n",
        "print('Best Score: %s' % result.best_score_)\n",
        "print('Best Hyperparameters: %s' % result.best_params_)\n",
        "\n",
        "#validate\n",
        "y_pred = search.predict(X_val)\n",
        "acc = (metrics.accuracy_score(y_val, y_pred))\n",
        "fpr, tpr, _thresholds = metrics.roc_curve(y_val, y_pred)\n",
        "auc = (round(metrics.auc(fpr, tpr),2))\n",
        "\n",
        "print(auc)\n",
        "print(acc)"
      ],
      "metadata": {
        "colab": {
          "base_uri": "https://localhost:8080/"
        },
        "id": "7-ePs0G2b61k",
        "outputId": "0be72347-c5ad-4e1f-e346-a8b74f1b2c73"
      },
      "execution_count": 131,
      "outputs": [
        {
          "output_type": "stream",
          "name": "stderr",
          "text": [
            "/usr/local/lib/python3.9/dist-packages/sklearn/model_selection/_search.py:305: UserWarning: The total space of parameters 114 is smaller than n_iter=500. Running 114 iterations. For exhaustive searches, use GridSearchCV.\n",
            "  warnings.warn(\n"
          ]
        },
        {
          "output_type": "stream",
          "name": "stdout",
          "text": [
            "Best Score: 0.673076923076923\n",
            "Best Hyperparameters: {'weights': 'distance', 'n_neighbors': 18, 'metric': 'manhattan'}\n",
            "0.52\n",
            "0.525\n"
          ]
        },
        {
          "output_type": "stream",
          "name": "stderr",
          "text": [
            "/usr/local/lib/python3.9/dist-packages/sklearn/neighbors/_classification.py:215: DataConversionWarning: A column-vector y was passed when a 1d array was expected. Please change the shape of y to (n_samples,), for example using ravel().\n",
            "  return self._fit(X, y)\n"
          ]
        }
      ]
    }
  ],
  "metadata": {
    "colab": {
      "provenance": [],
      "include_colab_link": true
    },
    "kernelspec": {
      "display_name": "Python 3",
      "name": "python3"
    },
    "language_info": {
      "codemirror_mode": {
        "name": "ipython",
        "version": 3
      },
      "file_extension": ".py",
      "mimetype": "text/x-python",
      "name": "python",
      "nbconvert_exporter": "python",
      "pygments_lexer": "ipython3",
      "version": "3.9.7"
    }
  },
  "nbformat": 4,
  "nbformat_minor": 0
}