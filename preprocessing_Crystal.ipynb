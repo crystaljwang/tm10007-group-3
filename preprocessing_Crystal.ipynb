{
  "nbformat": 4,
  "nbformat_minor": 0,
  "metadata": {
    "colab": {
      "provenance": [],
      "authorship_tag": "ABX9TyOLU3UogL3rmRCWnP+IHzWS",
      "include_colab_link": true
    },
    "kernelspec": {
      "name": "python3",
      "display_name": "Python 3"
    },
    "language_info": {
      "name": "python"
    }
  },
  "cells": [
    {
      "cell_type": "markdown",
      "metadata": {
        "id": "view-in-github",
        "colab_type": "text"
      },
      "source": [
        "<a href=\"https://colab.research.google.com/github/crystaljwang/tm10007_group_3/blob/preprocessing/preprocessing_Crystal.ipynb\" target=\"_parent\"><img src=\"https://colab.research.google.com/assets/colab-badge.svg\" alt=\"Open In Colab\"/></a>"
      ]
    },
    {
      "cell_type": "markdown",
      "source": [
        "Loading the GIST data from GitHub"
      ],
      "metadata": {
        "id": "LExRxWGVRAyR"
      }
    },
    {
      "cell_type": "code",
      "execution_count": 1,
      "metadata": {
        "colab": {
          "base_uri": "https://localhost:8080/"
        },
        "id": "HUQ41FV4Q7m9",
        "outputId": "74ae7d9d-60e9-41f6-c206-cf0c73e2d130"
      },
      "outputs": [
        {
          "output_type": "stream",
          "name": "stdout",
          "text": [
            "  Preparing metadata (setup.py) ... \u001b[?25l\u001b[?25hdone\n",
            "  Building wheel for ktml (setup.py) ... \u001b[?25l\u001b[?25hdone\n"
          ]
        }
      ],
      "source": [
        "# Run this to use from colab environment\n",
        "!pip install -q --upgrade git+https://github.com/jveenland/tm10007_ml.git"
      ]
    },
    {
      "cell_type": "code",
      "source": [
        "# Run this to use from colab environment\n",
        "!git clone https://github.com/jveenland/tm10007_ml.git"
      ],
      "metadata": {
        "colab": {
          "base_uri": "https://localhost:8080/"
        },
        "id": "o3jM6EgsQ-uu",
        "outputId": "073e4f7c-e41b-48e9-a795-0263cbdfacd0"
      },
      "execution_count": 2,
      "outputs": [
        {
          "output_type": "stream",
          "name": "stdout",
          "text": [
            "Cloning into 'tm10007_ml'...\n",
            "remote: Enumerating objects: 83, done.\u001b[K\n",
            "remote: Counting objects: 100% (21/21), done.\u001b[K\n",
            "remote: Compressing objects: 100% (9/9), done.\u001b[K\n",
            "remote: Total 83 (delta 13), reused 12 (delta 12), pack-reused 62\u001b[K\n",
            "Unpacking objects: 100% (83/83), 67.93 MiB | 7.32 MiB/s, done.\n"
          ]
        }
      ]
    },
    {
      "cell_type": "code",
      "source": [
        "%cd /content/tm10007_ml/worcgist"
      ],
      "metadata": {
        "colab": {
          "base_uri": "https://localhost:8080/"
        },
        "id": "-Ud1sGjVRaRw",
        "outputId": "1c9dadf7-0ce5-4ec5-efc2-ebc94cca2d58"
      },
      "execution_count": 3,
      "outputs": [
        {
          "output_type": "stream",
          "name": "stdout",
          "text": [
            "/content/tm10007_ml/worcgist\n"
          ]
        }
      ]
    },
    {
      "cell_type": "code",
      "source": [
        "# Import necessary libraries\n",
        "import pandas as pd\n",
        "import numpy as np\n",
        "\n",
        "from pathlib import Path\n",
        "from sklearn.preprocessing import StandardScaler\n",
        "from sklearn.feature_selection import SelectKBest, f_classif\n",
        "from sklearn.model_selection import train_test_split\n",
        "from sklearn.feature_selection import VarianceThreshold"
      ],
      "metadata": {
        "id": "dBVHB8egrEs-"
      },
      "execution_count": 4,
      "outputs": []
    },
    {
      "cell_type": "code",
      "source": [
        "dir = Path('.') / 'GIST_radiomicFeatures.csv'\n",
        "data = pd.read_csv(dir, index_col=0)\n",
        "\n",
        "print(f'The number of samples: {len(data.index)}')\n",
        "print(f'The number of columns: {len(data.columns)}')\n",
        "data.info()"
      ],
      "metadata": {
        "colab": {
          "base_uri": "https://localhost:8080/"
        },
        "id": "gOwJctD-Ri7N",
        "outputId": "a67ceb2b-98c3-45bb-99e1-c4e8b874e175"
      },
      "execution_count": 5,
      "outputs": [
        {
          "output_type": "stream",
          "name": "stdout",
          "text": [
            "The number of samples: 246\n",
            "The number of columns: 494\n",
            "<class 'pandas.core.frame.DataFrame'>\n",
            "Index: 246 entries, GIST-001_0 to GIST-246_0\n",
            "Columns: 494 entries, label to PREDICT_original_phasef_phasesym_entropy_WL3_N5\n",
            "dtypes: float64(468), int64(25), object(1)\n",
            "memory usage: 951.3+ KB\n"
          ]
        }
      ]
    },
    {
      "cell_type": "markdown",
      "source": [
        "Splitting the data"
      ],
      "metadata": {
        "id": "I272I7YrURCc"
      }
    },
    {
      "cell_type": "code",
      "source": [
        "# ----- SPLITTING THE DATA -----\n",
        "\n",
        "# Replace label values from string to binary\n",
        "data['label'] = data['label'].replace({'GIST': 1, 'non-GIST': 0})\n",
        "\n",
        "# Separate the features and labels\n",
        "X = data.drop(['label'], axis=1)\n",
        "y = data['label']\n",
        "\n",
        "# Split the data into random train and test sets\n",
        "X_train, X_test, y_train, y_test = train_test_split(X, y, test_size=0.2, random_state=42)\n",
        "print(X_train.shape)\n",
        "print(X_test.shape)\n",
        "\n",
        "# ----- PREPROCESSING -----\n",
        "\n",
        "# Data scaling\n",
        "X_train = StandardScaler().fit_transform(X_train)\n",
        "\n",
        "# Remove all constant (zero-variance) features\n",
        "X_train = pd.DataFrame(X_train)\n",
        "\n",
        "zero_var_filter = VarianceThreshold(threshold=0)\n",
        "zero_var_filter.fit(X_train)\n",
        "zero_var_columns = [column for column in X_train.columns if column not in X_train.columns[zero_var_filter.get_support()]]\n",
        "X_train = zero_var_filter.transform(X_train)\n",
        "\n",
        "removed_features = [data.columns[index] for index in zero_var_columns]\n",
        "print('The following constant features were removed:')\n",
        "for feature in removed_features:\n",
        "    print(f'- {feature}')"
      ],
      "metadata": {
        "colab": {
          "base_uri": "https://localhost:8080/"
        },
        "id": "ks-SM9dlsDiF",
        "outputId": "811b7766-f5be-4e63-ad03-21357ef78994"
      },
      "execution_count": 30,
      "outputs": [
        {
          "output_type": "stream",
          "name": "stdout",
          "text": [
            "(196, 493)\n",
            "(50, 493)\n",
            "The following constant features were removed:\n",
            "- PREDICT_original_tf_LBP_min_R3_P12\n",
            "- PREDICT_original_tf_LBP_kurtosis_R3_P12\n",
            "- PREDICT_original_tf_LBP_peak_R3_P12\n",
            "- PREDICT_original_tf_LBP_min_R8_P24\n",
            "- PREDICT_original_tf_LBP_peak_R8_P24\n",
            "- PREDICT_original_tf_LBP_min_R15_P36\n",
            "- PREDICT_original_tf_LBP_peak_R15_P36\n",
            "- PREDICT_original_phasef_monogenic_entropy_WL3_N5\n",
            "- PREDICT_original_phasef_phasecong_kurtosis_WL3_N5\n",
            "- PREDICT_original_phasef_phasecong_peak_WL3_N5\n",
            "- PREDICT_original_phasef_phasecong_entropy_WL3_N5\n",
            "- PREDICT_original_phasef_phasesym_kurtosis_WL3_N5\n",
            "- PREDICT_original_phasef_phasesym_peak_WL3_N5\n"
          ]
        }
      ]
    },
    {
      "cell_type": "markdown",
      "source": [
        "Adding a learning curve for cross-validation"
      ],
      "metadata": {
        "id": "ImTeXRj1wXUJ"
      }
    },
    {
      "cell_type": "code",
      "source": [
        "# Cross-validation\n",
        "\n",
        "from sklearn.model_selection import learning_curve\n",
        "from sklearn.model_selection import cross_val_score\n",
        "from sklearn import svm\n",
        "from sklearn.svm import SVC\n",
        "\n",
        "train_sizes, train_scores, valid_scores = learning_curve(SVC(kernel='linear'), X_train, y_train, cv=5)\n",
        "print(train_sizes)\n",
        "print(train_scores)\n",
        "print(valid_scores)"
      ],
      "metadata": {
        "colab": {
          "base_uri": "https://localhost:8080/"
        },
        "id": "TEPMZxzlm4Ro",
        "outputId": "c5874688-82fb-4b0b-a446-c3ece4d2cc08"
      },
      "execution_count": 31,
      "outputs": [
        {
          "output_type": "stream",
          "name": "stdout",
          "text": [
            "[ 15  50  85 120 156]\n",
            "[[1. 1. 1. 1. 1.]\n",
            " [1. 1. 1. 1. 1.]\n",
            " [1. 1. 1. 1. 1.]\n",
            " [1. 1. 1. 1. 1.]\n",
            " [1. 1. 1. 1. 1.]]\n",
            "[[0.55       0.51282051 0.58974359 0.58974359 0.46153846]\n",
            " [0.5        0.48717949 0.61538462 0.64102564 0.41025641]\n",
            " [0.5        0.53846154 0.64102564 0.79487179 0.53846154]\n",
            " [0.55       0.69230769 0.66666667 0.66666667 0.51282051]\n",
            " [0.675      0.66666667 0.56410256 0.74358974 0.53846154]]\n"
          ]
        }
      ]
    },
    {
      "cell_type": "code",
      "source": [
        "# Select features according to the k highest scores\n",
        "kbest_filter = SelectKBest(f_classif, k=10)\n",
        "kbest_filter.fit(X_train, y_train)\n",
        "\n",
        "data_new = data.drop(data.columns[zero_var_columns], axis=1)\n",
        "del data_new[data_new.columns[0]]\n",
        "kbest_list = kbest_filter.get_feature_names_out(input_features=data_new.columns)\n",
        "\n",
        "print('The selected 10 best features are:')\n",
        "for kbest in kbest_list:\n",
        "    print(f'- {kbest}')\n",
        "\n",
        "X_train = kbest_filter.transform(X_train)\n",
        "\n",
        "from sklearn.svm import SVC\n",
        "\n",
        "svc = SVC(kernel=\"linear\")\n",
        "\n",
        "import matplotlib.pyplot as plt\n",
        "import numpy as np\n",
        "from sklearn.model_selection import LearningCurveDisplay, ShuffleSplit\n",
        "\n",
        "fig, ax = plt.subplots(nrows=1, ncols=1, figsize=(5, 6))\n",
        "\n",
        "common_params = {\n",
        "    \"X\": X_train,\n",
        "    \"y\": y_train,\n",
        "    \"train_sizes\": np.linspace(0.1, 1.0, 5),\n",
        "    \"cv\": ShuffleSplit(n_splits=50, test_size=0.15, random_state=0),\n",
        "    \"score_type\": \"both\",\n",
        "    \"n_jobs\": 4,\n",
        "    \"line_kw\": {\"marker\": \"o\"},\n",
        "    \"std_display_style\": \"fill_between\",\n",
        "    \"score_name\": \"Accuracy\",\n",
        "}\n",
        "\n",
        "LearningCurveDisplay.from_estimator(svc, **common_params, ax=ax)\n",
        "handles, label = ax.get_legend_handles_labels()\n",
        "ax.legend(handles[:2], [\"Training Score\", \"Test Score\"])\n",
        "ax.set_title(f\"Learning Curve for {svc.__class__.__name__}\")\n",
        "plt.show()"
      ],
      "metadata": {
        "colab": {
          "base_uri": "https://localhost:8080/",
          "height": 755
        },
        "id": "RpibX26YpKSZ",
        "outputId": "f296c8da-914c-49b6-c248-409381008cc7"
      },
      "execution_count": 32,
      "outputs": [
        {
          "output_type": "stream",
          "name": "stdout",
          "text": [
            "The selected 10 best features are:\n",
            "- PREDICT_original_tf_GLCMMS_homogeneityd3.0A0.0mean\n",
            "- PREDICT_original_tf_GLCMMS_homogeneityd3.0A0.0std\n",
            "- PREDICT_original_tf_GLCMMS_homogeneityd3.0A0.79mean\n",
            "- PREDICT_original_tf_GLCMMS_homogeneityd3.0A0.79std\n",
            "- PREDICT_original_tf_GLCMMS_homogeneityd3.0A1.57mean\n",
            "- PREDICT_original_tf_GLCMMS_homogeneityd3.0A1.57std\n",
            "- PREDICT_original_tf_GLCMMS_homogeneityd3.0A2.36mean\n",
            "- PREDICT_original_tf_GLCMMS_homogeneityd3.0A2.36std\n",
            "- PREDICT_original_tf_Gabor_mean_F0.2_A0.79\n",
            "- PREDICT_original_tf_Gabor_mean_F0.5_A0.79\n"
          ]
        },
        {
          "output_type": "display_data",
          "data": {
            "text/plain": [
              "<Figure size 500x600 with 1 Axes>"
            ],
            "image/png": "[encoded data removed]"
          },
          "metadata": {}
        }
      ]
    }
  ]
}