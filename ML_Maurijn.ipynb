{
  "nbformat": 4,
  "nbformat_minor": 0,
  "metadata": {
    "colab": {
      "provenance": [],
      "include_colab_link": true
    },
    "kernelspec": {
      "name": "python3",
      "display_name": "Python 3"
    },
    "language_info": {
      "name": "python"
    }
  },
  "cells": [
    {
      "cell_type": "markdown",
      "metadata": {
        "id": "view-in-github",
        "colab_type": "text"
      },
      "source": [
        "<a href=\"https://colab.research.google.com/github/crystaljwang/tm10007_group_3/blob/validation/ML_Maurijn.ipynb\" target=\"_parent\"><img src=\"https://colab.research.google.com/assets/colab-badge.svg\" alt=\"Open In Colab\"/></a>"
      ]
    },
    {
      "cell_type": "code",
      "source": [
        "# Import necessary libraries\n",
        "import pandas as pd\n",
        "import numpy as np\n",
        "from sklearn.linear_model import LogisticRegression\n",
        "from sklearn.model_selection import train_test_split\n",
        "from sklearn.feature_selection import SelectKBest, f_classif\n",
        "from sklearn.preprocessing import StandardScaler\n",
        "from sklearn.svm import SVC\n",
        "from sklearn.pipeline import make_pipeline\n",
        "from sklearn.metrics import classification_report, confusion_matrix"
      ],
      "metadata": {
        "id": "NjqPo2zw8OvI"
      },
      "execution_count": 4,
      "outputs": []
    },
    {
      "cell_type": "code",
      "source": [
        "# Separate the features and labels\n",
        "X = data.drop(['label'], axis=1)\n",
        "y = data['label']\n",
        "\n",
        "# Split the data into training and testing sets\n",
        "X_train, X_test, y_train, y_test = train_test_split(X, y, test_size=0.2, random_state=42)\n",
        "\n",
        "# Feature selection and scaling\n",
        "selector = SelectKBest(f_classif, k=20)\n",
        "scaler = StandardScaler()"
      ],
      "metadata": {
        "id": "kfDAB4u77pN0"
      },
      "execution_count": null,
      "outputs": []
    },
    {
      "cell_type": "code",
      "source": [
        "\n",
        "# Run this to use from colab environment\n",
        "!pip install -q --upgrade git+https://github.com/jveenland/tm10007_ml.git\n",
        "\n",
        "\n",
        "# Run this to use from colab environment\n",
        "!git clone https://github.com/jveenland/tm10007_ml.git\n",
        "\n",
        "%cd /content/tm10007_ml/worcgist \n",
        "\n",
        "dir = Path('.') / 'GIST_radiomicFeatures.csv'\n",
        "data = pd.read_csv(dir, index_col=0)\n",
        "\n",
        "print(f'The number of samples: {len(data.index)}')\n",
        "print(f'The number of columns: {len(data.columns)}')\n",
        "\n"
      ],
      "metadata": {
        "colab": {
          "base_uri": "https://localhost:8080/"
        },
        "id": "goMnaQGn2qSk",
        "outputId": "cf1d01d5-9283-4ea0-b6e2-1cff04b350d3"
      },
      "execution_count": 17,
      "outputs": [
        {
          "output_type": "stream",
          "name": "stdout",
          "text": [
            "  Preparing metadata (setup.py) ... \u001b[?25l\u001b[?25hdone\n",
            "fatal: destination path 'tm10007_ml' already exists and is not an empty directory.\n",
            "/content/tm10007_ml/worcgist\n",
            "The number of samples: 246\n",
            "The number of columns: 494\n"
          ]
        }
      ]
    },
    {
      "cell_type": "code",
      "source": [
        "\n",
        "\n",
        "\n",
        " \n",
        "  # Separate the target variable from the features\n",
        "  X = data.iloc[:, 1:]\n",
        "  y = data.iloc[:, 0]\n",
        "  \n",
        "  # Initialize the k-fold and set the number of splits\n",
        "  kf = KFold(n_splits=5)\n",
        "  \n",
        "  # Split the data into training and testing sets\n",
        "  for train_index, test_index in kf.split(X):\n",
        "      X_train, X_test = X.iloc[train_index], X.iloc[test_index] #features for training  and testing \n",
        "      y_train, y_test = y[train_index], y[test_index] # targets for training and testing \n",
        "  \n",
        "  print(y_train, y_test)\n",
        "\n"
      ],
      "metadata": {
        "id": "zh6AwkZe5aDy",
        "outputId": "d1a7f9f6-791f-4c84-ef16-3ca1428c3b5a",
        "colab": {
          "base_uri": "https://localhost:8080/"
        }
      },
      "execution_count": 24,
      "outputs": [
        {
          "output_type": "stream",
          "name": "stdout",
          "text": [
            "ID\n",
            "GIST-001_0        GIST\n",
            "GIST-002_0    non-GIST\n",
            "GIST-003_0        GIST\n",
            "GIST-004_0    non-GIST\n",
            "GIST-005_0    non-GIST\n",
            "                ...   \n",
            "GIST-193_0    non-GIST\n",
            "GIST-194_0    non-GIST\n",
            "GIST-195_0        GIST\n",
            "GIST-196_0        GIST\n",
            "GIST-197_0    non-GIST\n",
            "Name: label, Length: 197, dtype: object ID\n",
            "GIST-198_0        GIST\n",
            "GIST-199_0    non-GIST\n",
            "GIST-200_0    non-GIST\n",
            "GIST-201_0        GIST\n",
            "GIST-202_0    non-GIST\n",
            "GIST-203_0    non-GIST\n",
            "GIST-204_0    non-GIST\n",
            "GIST-205_0    non-GIST\n",
            "GIST-206_0        GIST\n",
            "GIST-207_0        GIST\n",
            "GIST-208_0    non-GIST\n",
            "GIST-209_0        GIST\n",
            "GIST-210_0    non-GIST\n",
            "GIST-211_0        GIST\n",
            "GIST-212_0        GIST\n",
            "GIST-213_0        GIST\n",
            "GIST-214_0    non-GIST\n",
            "GIST-215_0        GIST\n",
            "GIST-216_0        GIST\n",
            "GIST-217_0    non-GIST\n",
            "GIST-218_0        GIST\n",
            "GIST-219_0        GIST\n",
            "GIST-220_0        GIST\n",
            "GIST-221_0    non-GIST\n",
            "GIST-222_0        GIST\n",
            "GIST-223_0        GIST\n",
            "GIST-224_0    non-GIST\n",
            "GIST-225_0    non-GIST\n",
            "GIST-226_0        GIST\n",
            "GIST-227_0    non-GIST\n",
            "GIST-228_0        GIST\n",
            "GIST-229_0        GIST\n",
            "GIST-230_0        GIST\n",
            "GIST-231_0    non-GIST\n",
            "GIST-232_0    non-GIST\n",
            "GIST-233_0    non-GIST\n",
            "GIST-234_0        GIST\n",
            "GIST-235_0    non-GIST\n",
            "GIST-236_0        GIST\n",
            "GIST-237_0        GIST\n",
            "GIST-238_0        GIST\n",
            "GIST-239_0        GIST\n",
            "GIST-240_0        GIST\n",
            "GIST-241_0        GIST\n",
            "GIST-242_0    non-GIST\n",
            "GIST-243_0    non-GIST\n",
            "GIST-244_0        GIST\n",
            "GIST-245_0        GIST\n",
            "GIST-246_0    non-GIST\n",
            "Name: label, dtype: object\n"
          ]
        }
      ]
    },
    {
      "cell_type": "code",
      "source": [],
      "metadata": {
        "id": "vA3kRNd09jeR"
      },
      "execution_count": null,
      "outputs": []
    },
    {
      "cell_type": "code",
      "source": [],
      "metadata": {
        "id": "61iXAU6Z9gMh"
      },
      "execution_count": null,
      "outputs": []
    }
  ]
}