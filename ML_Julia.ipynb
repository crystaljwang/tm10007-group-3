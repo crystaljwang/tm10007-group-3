{
  "nbformat": 4,
  "nbformat_minor": 0,
  "metadata": {
    "colab": {
      "provenance": [],
      "authorship_tag": "ABX9TyNzqqbfi0KMDr+cyuibZMnk",
      "include_colab_link": true
    },
    "kernelspec": {
      "name": "python3",
      "display_name": "Python 3"
    },
    "language_info": {
      "name": "python"
    }
  },
  "cells": [
    {
      "cell_type": "markdown",
      "metadata": {
        "id": "view-in-github",
        "colab_type": "text"
      },
      "source": [
        "<a href=\"https://colab.research.google.com/github/crystaljwang/tm10007_group_3/blob/preprocessing/ML_Julia.ipynb\" target=\"_parent\"><img src=\"https://colab.research.google.com/assets/colab-badge.svg\" alt=\"Open In Colab\"/></a>"
      ]
    },
    {
      "cell_type": "markdown",
      "source": [
        "The code below loads the GIST data from GitHub. Some imports and settings."
      ],
      "metadata": {
        "id": "dmo5RpsBn-am"
      }
    },
    {
      "cell_type": "code",
      "execution_count": null,
      "metadata": {
        "id": "sbj8Q-dDloG-"
      },
      "outputs": [],
      "source": [
        "## Import data\n",
        "\n",
        "# Run this to use from colab environment\n",
        "!pip install -q --upgrade git+https://github.com/jveenland/tm10007_ml.git\n",
        "\n",
        "# Run this to use from colab environment\n",
        "!git clone https://github.com/jveenland/tm10007_ml.git \n",
        "\n",
        "%cd /content/tm10007_ml/worcgist   "
      ]
    },
    {
      "cell_type": "markdown",
      "source": [
        "General imports, settings and calculations"
      ],
      "metadata": {
        "id": "EIUICRFro5Wh"
      }
    },
    {
      "cell_type": "code",
      "source": [
        "# Imports\n",
        "from pathlib import Path\n",
        "import pandas as pd\n",
        "import numpy as np\n",
        "\n",
        "from sklearn.preprocessing import StandardScaler\n",
        "from sklearn.pipeline import make_pipeline\n",
        "from sklearn.linear_model import LogisticRegression\n",
        "from sklearn.svm import SVC\n",
        "from sklearn.neighbors import KNeighborsClassifier\n",
        "from sklearn.tree import DecisionTreeClassifier\n",
        "from sklearn.ensemble import RandomForestClassifier\n",
        "from sklearn.naive_bayes import GaussianNB\n",
        "from sklearn.model_selection import train_test_split\n",
        "from sklearn.feature_selection import SelectKBest, f_classif\n",
        "from sklearn.metrics import classification_report, accuracy_score, precision_score, recall_score, f1_score, confusion_matrix\n",
        "from sklearn import metrics\n",
        "\n",
        "# Save directory\n",
        "dir = Path('.') / 'GIST_radiomicFeatures.csv'\n",
        "data = pd.read_csv(dir, index_col=0)\n",
        "\n",
        "# Size dataset\n",
        "print(f'The number of samples: {len(data.index)}')\n",
        "print(f'The number of columns: {len(data.columns)}')"
      ],
      "metadata": {
        "id": "SYK6J9BXo--X"
      },
      "execution_count": null,
      "outputs": []
    },
    {
      "cell_type": "markdown",
      "source": [
        "Preprocessing the data"
      ],
      "metadata": {
        "id": "DKqqFQYSoD70"
      }
    },
    {
      "cell_type": "code",
      "source": [
        "##PREPROCESSING\n",
        "\n",
        "# Replace label values from string to binary\n",
        "data['label'] = data['label'].replace({'GIST': 1, 'non-GIST': 0})\n",
        "\n",
        "# Separate the features and labels\n",
        "X = data.drop(['label'], axis=1)\n",
        "y = data['label']\n",
        "\n",
        "# Data scaling\n",
        "X = StandardScaler().fit_transform(X)"
      ],
      "metadata": {
        "id": "1TJMNHySn81V"
      },
      "execution_count": 4,
      "outputs": []
    }
  ]
}