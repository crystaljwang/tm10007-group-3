{
  "nbformat": 4,
  "nbformat_minor": 0,
  "metadata": {
    "colab": {
      "provenance": [],
      "authorship_tag": "ABX9TyPzOjvFlNaYzBhgUCIWqVVR",
      "include_colab_link": true
    },
    "kernelspec": {
      "name": "python3",
      "display_name": "Python 3"
    },
    "language_info": {
      "name": "python"
    }
  },
  "cells": [
    {
      "cell_type": "markdown",
      "metadata": {
        "id": "view-in-github",
        "colab_type": "text"
      },
      "source": [
        "<a href=\"https://colab.research.google.com/github/crystaljwang/tm10007_group_3/blob/preprocessing/ML_Julia.ipynb\" target=\"_parent\"><img src=\"https://colab.research.google.com/assets/colab-badge.svg\" alt=\"Open In Colab\"/></a>"
      ]
    },
    {
      "cell_type": "markdown",
      "source": [
        "The code below loads the GIST data from GitHub. Some imports and settings."
      ],
      "metadata": {
        "id": "dmo5RpsBn-am"
      }
    },
    {
      "cell_type": "code",
      "execution_count": 38,
      "metadata": {
        "id": "sbj8Q-dDloG-",
        "colab": {
          "base_uri": "https://localhost:8080/"
        },
        "outputId": "d392e862-0fc5-4b3e-e529-386e87d507ce"
      },
      "outputs": [
        {
          "output_type": "stream",
          "name": "stdout",
          "text": [
            "  Preparing metadata (setup.py) ... \u001b[?25l\u001b[?25hdone\n",
            "Cloning into 'tm10007_ml'...\n",
            "remote: Enumerating objects: 83, done.\u001b[K\n",
            "remote: Counting objects: 100% (22/22), done.\u001b[K\n",
            "remote: Compressing objects: 100% (10/10), done.\u001b[K\n",
            "remote: Total 83 (delta 13), reused 12 (delta 12), pack-reused 61\u001b[K\n",
            "Unpacking objects: 100% (83/83), 67.93 MiB | 15.59 MiB/s, done.\n",
            "/content/tm10007_ml/worcgist\n"
          ]
        }
      ],
      "source": [
        "## Import data\n",
        "\n",
        "# Run this to use from colab environment\n",
        "!pip install -q --upgrade git+https://github.com/jveenland/tm10007_ml.git\n",
        "\n",
        "# Run this to use from colab environment\n",
        "!git clone https://github.com/jveenland/tm10007_ml.git \n",
        "\n",
        "%cd /content/tm10007_ml/worcgist   "
      ]
    },
    {
      "cell_type": "markdown",
      "source": [
        "General imports, settings and calculations"
      ],
      "metadata": {
        "id": "EIUICRFro5Wh"
      }
    },
    {
      "cell_type": "code",
      "source": [
        "# Imports\n",
        "from pathlib import Path\n",
        "import pandas as pd\n",
        "import numpy as np\n",
        "\n",
        "from sklearn.preprocessing import StandardScaler\n",
        "from sklearn.pipeline import make_pipeline\n",
        "from sklearn.linear_model import LogisticRegression\n",
        "from sklearn.svm import SVC\n",
        "from sklearn.neighbors import KNeighborsClassifier\n",
        "from sklearn.tree import DecisionTreeClassifier\n",
        "from sklearn.ensemble import RandomForestClassifier\n",
        "from sklearn.naive_bayes import GaussianNB\n",
        "from sklearn.model_selection import train_test_split\n",
        "from sklearn.feature_selection import SelectKBest, f_classif\n",
        "from sklearn.metrics import classification_report, accuracy_score, precision_score, recall_score, f1_score, confusion_matrix\n",
        "from sklearn import metrics\n",
        "\n",
        "# Save directory\n",
        "dir = Path('.') / 'GIST_radiomicFeatures.csv'\n",
        "data = pd.read_csv(dir, index_col=0)\n",
        "\n",
        "# Size dataset\n",
        "print(f'The number of samples: {len(data.index)}')\n",
        "print(f'The number of columns: {len(data.columns)}')"
      ],
      "metadata": {
        "id": "SYK6J9BXo--X",
        "colab": {
          "base_uri": "https://localhost:8080/"
        },
        "outputId": "e9de63a0-ad87-43dc-8aff-1d24ba7bfee6"
      },
      "execution_count": 39,
      "outputs": [
        {
          "output_type": "stream",
          "name": "stdout",
          "text": [
            "The number of samples: 246\n",
            "The number of columns: 494\n"
          ]
        }
      ]
    },
    {
      "cell_type": "markdown",
      "source": [
        "Preprocessing the data"
      ],
      "metadata": {
        "id": "DKqqFQYSoD70"
      }
    },
    {
      "cell_type": "code",
      "source": [
        "##PREPROCESSING\n",
        "\n",
        "# Replace label values from string to binary\n",
        "data['label'] = data['label'].replace({'GIST': 1, 'non-GIST': 0})\n",
        "\n",
        "# Separate the features and labels\n",
        "X = data.drop(['label'], axis=1)\n",
        "y = data['label']\n",
        "\n",
        "# Data scaling\n",
        "X = StandardScaler().fit_transform(X)"
      ],
      "metadata": {
        "id": "1TJMNHySn81V"
      },
      "execution_count": 40,
      "outputs": []
    },
    {
      "cell_type": "markdown",
      "source": [
        "Splitting the data"
      ],
      "metadata": {
        "id": "Fz2FKAfufkN2"
      }
    },
    {
      "cell_type": "code",
      "source": [
        "# ----- SPLITTING THE DATA -----\n",
        "\n",
        "# Split the data into random train and test sets\n",
        "X_train, X_test, y_train, y_test = train_test_split(X, y, test_size=0.2, random_state=42)\n",
        "print(X_train.shape)\n",
        "print(X_test.shape)\n",
        "\n",
        "# Make dataframe\n",
        "X_train = pd.DataFrame(X_train)"
      ],
      "metadata": {
        "colab": {
          "base_uri": "https://localhost:8080/"
        },
        "id": "I6CVGmvcfjxX",
        "outputId": "136bf3c7-d4f5-493b-ab69-f74917780a97"
      },
      "execution_count": 41,
      "outputs": [
        {
          "output_type": "stream",
          "name": "stdout",
          "text": [
            "(196, 493)\n",
            "(50, 493)\n"
          ]
        }
      ]
    },
    {
      "cell_type": "markdown",
      "source": [
        "Testing"
      ],
      "metadata": {
        "id": "-0ilJAOScpy4"
      }
    },
    {
      "cell_type": "code",
      "source": [
        "# Percentage Gist vs Non-Gist\n",
        "counts = y_train.value_counts(normalize=True)\n",
        "percentage_nongist = counts[0] * 100\n",
        "percentage_gist = counts[1] * 100\n",
        "\n",
        "print(f'Percentage of non-GIST in training set: {percentage_nongist:.2f}%')\n",
        "print(f'Percentage of GIST in training set: {percentage_gist:.2f}%')\n",
        "\n",
        "# Check for missing data\n",
        "if X_train.isnull().sum().sum() > 0:\n",
        "    print('Missing data found.')\n",
        "    exit()\n",
        "else:\n",
        "    print('No missing data found.')\n",
        "\n",
        "# Check for categorial values\n",
        "categorical_cols = [col for col in X_train.columns if X_train[col].dtype == 'object']\n",
        "if len(categorical_cols) > 0:\n",
        "    print(f'Categorical columns found: {categorical_cols}')\n",
        "    exit()\n",
        "else:\n",
        "    print('No categorical columns found.')\n",
        "\n",
        "import math\n",
        "from scipy.stats import shapiro \n",
        "\n",
        "# Perform Shapiro-Wilk test for normality\n",
        "p_values_above_threshold = []\n",
        "for col in X_train.columns:\n",
        "  stat, p = shapiro((X_train))\n",
        "  p_values_above_threshold.append(p > 0.05)\n",
        "  #print(f'Shapiro test for column {col}: statistic = {stat:.3f}, p-value = {p:.3f}')\n",
        "\n",
        "percent_above_threshold = sum(p_values_above_threshold) / len(p_values_above_threshold) * 100\n",
        "print(f'{percent_above_threshold:.1f} percent of the data is normally distributed.')\n",
        "\n",
        "#print('stat=%.3f, p=%.3f\\n' % (stat, p))\n"
      ],
      "metadata": {
        "colab": {
          "base_uri": "https://localhost:8080/"
        },
        "id": "VFaWZrTScrfP",
        "outputId": "57708641-9a8c-4f12-f6cf-a1fe11c5103f"
      },
      "execution_count": 42,
      "outputs": [
        {
          "output_type": "stream",
          "name": "stdout",
          "text": [
            "Percentage of non-GIST in training set: 51.02%\n",
            "Percentage of GIST in training set: 48.98%\n",
            "No missing data found.\n",
            "No categorical columns found.\n"
          ]
        },
        {
          "output_type": "stream",
          "name": "stderr",
          "text": [
            "/usr/local/lib/python3.9/dist-packages/scipy/stats/_morestats.py:1816: UserWarning: p-value may not be accurate for N > 5000.\n",
            "  warnings.warn(\"p-value may not be accurate for N > 5000.\")\n"
          ]
        },
        {
          "output_type": "stream",
          "name": "stdout",
          "text": [
            "0.0 percent of the data is normally distributed.\n"
          ]
        }
      ]
    },
    {
      "cell_type": "code",
      "source": [
        "# Visualisation outliers\n",
        "\n",
        "import seaborn as sns\n",
        "sns.boxplot(X_train[5])"
      ],
      "metadata": {
        "id": "nhoDeprBv9xx"
      },
      "execution_count": null,
      "outputs": []
    },
    {
      "cell_type": "markdown",
      "source": [
        "Outliers"
      ],
      "metadata": {
        "id": "pycSy5Ptqw0-"
      }
    },
    {
      "cell_type": "code",
      "source": [
        "def replace_outliers(data):\n",
        "    \"\"\"\n",
        "    Replaces the outliers in a DataFrame with the lower or upper bound.\n",
        "\n",
        "    :param data: The DataFrame to be filtered\n",
        "    :return: A new DataFrame with the outliers replaced by the lower or upper bound for each column\n",
        "    \"\"\"\n",
        "    # Calculate the lower and upper bounds based on each column's median and interquartile range\n",
        "    Q1 = data.quantile(0.25)\n",
        "    Q3 = data.quantile(0.75)\n",
        "    IQR = Q3 - Q1\n",
        "    lower_bound = Q1 - 1.5 * IQR\n",
        "    upper_bound = Q3 + 1.5 * IQR\n",
        "\n",
        "    # Replace the outliers with the lower or upper bound\n",
        "    for col in data.columns:\n",
        "        data[col] = data[col].apply(lambda x: upper_bound[col] if x > upper_bound[col] else x)\n",
        "        data[col] = data[col].apply(lambda x: lower_bound[col] if x < lower_bound[col] else x)\n",
        "\n",
        "    return data\n",
        "\n",
        "# Replace the outliers in each column with the lower or upper bound\n",
        "replace_outliers(X_train)\n",
        "\n",
        "#sns.boxplot(replaced_df[5])\n"
      ],
      "metadata": {
        "id": "RESVj833KWvi"
      },
      "execution_count": null,
      "outputs": []
    }
  ]
}