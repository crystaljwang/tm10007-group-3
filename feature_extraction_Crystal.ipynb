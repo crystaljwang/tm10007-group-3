{
  "nbformat": 4,
  "nbformat_minor": 0,
  "metadata": {
    "colab": {
      "provenance": [],
      "authorship_tag": "ABX9TyNUzJOnZnJNSgDE1xVEXC90",
      "include_colab_link": true
    },
    "kernelspec": {
      "name": "python3",
      "display_name": "Python 3"
    },
    "language_info": {
      "name": "python"
    }
  },
  "cells": [
    {
      "cell_type": "markdown",
      "metadata": {
        "id": "view-in-github",
        "colab_type": "text"
      },
      "source": [
        "<a href=\"https://colab.research.google.com/github/crystaljwang/tm10007_group_3/blob/preprocessing/feature_extraction_Crystal.ipynb\" target=\"_parent\"><img src=\"https://colab.research.google.com/assets/colab-badge.svg\" alt=\"Open In Colab\"/></a>"
      ]
    },
    {
      "cell_type": "markdown",
      "source": [
        "Loading the GIST data from GitHub"
      ],
      "metadata": {
        "id": "LExRxWGVRAyR"
      }
    },
    {
      "cell_type": "code",
      "execution_count": 1,
      "metadata": {
        "colab": {
          "base_uri": "https://localhost:8080/"
        },
        "id": "HUQ41FV4Q7m9",
        "outputId": "f867f301-8905-4352-b326-f0a0c829a919"
      },
      "outputs": [
        {
          "output_type": "stream",
          "name": "stdout",
          "text": [
            "  Preparing metadata (setup.py) ... \u001b[?25l\u001b[?25hdone\n"
          ]
        }
      ],
      "source": [
        "# Run this to use from colab environment\n",
        "!pip install -q --upgrade git+https://github.com/jveenland/tm10007_ml.git"
      ]
    },
    {
      "cell_type": "code",
      "source": [
        "# Run this to use from colab environment\n",
        "!git clone https://github.com/jveenland/tm10007_ml.git"
      ],
      "metadata": {
        "colab": {
          "base_uri": "https://localhost:8080/"
        },
        "id": "o3jM6EgsQ-uu",
        "outputId": "c1ac0d8f-e570-4ec8-8bf2-df003873adcf"
      },
      "execution_count": 2,
      "outputs": [
        {
          "output_type": "stream",
          "name": "stdout",
          "text": [
            "fatal: destination path 'tm10007_ml' already exists and is not an empty directory.\n"
          ]
        }
      ]
    },
    {
      "cell_type": "code",
      "source": [
        "%cd /content/tm10007_ml/worcgist"
      ],
      "metadata": {
        "colab": {
          "base_uri": "https://localhost:8080/"
        },
        "id": "-Ud1sGjVRaRw",
        "outputId": "28e6d0db-d189-4d70-eb6a-d6bca7616310"
      },
      "execution_count": 3,
      "outputs": [
        {
          "output_type": "stream",
          "name": "stdout",
          "text": [
            "/content/tm10007_ml/worcgist\n"
          ]
        }
      ]
    },
    {
      "cell_type": "code",
      "source": [
        "# Import necessary libraries\n",
        "import pandas as pd\n",
        "import numpy as np\n",
        "\n",
        "from pathlib import Path\n",
        "from sklearn.preprocessing import StandardScaler\n",
        "from sklearn.feature_selection import SelectKBest, f_classif\n",
        "from sklearn.model_selection import train_test_split\n",
        "from sklearn.feature_selection import VarianceThreshold"
      ],
      "metadata": {
        "id": "dBVHB8egrEs-"
      },
      "execution_count": 4,
      "outputs": []
    },
    {
      "cell_type": "code",
      "source": [
        "dir = Path('.') / 'GIST_radiomicFeatures.csv'\n",
        "data = pd.read_csv(dir, index_col=0)\n",
        "\n",
        "print(f'The number of samples: {len(data.index)}')\n",
        "print(f'The number of columns: {len(data.columns)}')\n",
        "data.info()"
      ],
      "metadata": {
        "colab": {
          "base_uri": "https://localhost:8080/"
        },
        "id": "gOwJctD-Ri7N",
        "outputId": "615ee508-f8e9-4199-a91d-bcf1d8853b5c"
      },
      "execution_count": 5,
      "outputs": [
        {
          "output_type": "stream",
          "name": "stdout",
          "text": [
            "The number of samples: 246\n",
            "The number of columns: 494\n",
            "<class 'pandas.core.frame.DataFrame'>\n",
            "Index: 246 entries, GIST-001_0 to GIST-246_0\n",
            "Columns: 494 entries, label to PREDICT_original_phasef_phasesym_entropy_WL3_N5\n",
            "dtypes: float64(468), int64(25), object(1)\n",
            "memory usage: 951.3+ KB\n"
          ]
        }
      ]
    },
    {
      "cell_type": "markdown",
      "source": [
        "Splitting the data"
      ],
      "metadata": {
        "id": "I272I7YrURCc"
      }
    },
    {
      "cell_type": "code",
      "source": [
        "# ----- SPLITTING THE DATA -----\n",
        "\n",
        "# Replace label values from string to binary\n",
        "data['label'] = data['label'].replace({'GIST': 1, 'non-GIST': 0})\n",
        "\n",
        "# Separate the features and labels\n",
        "X = data.drop(['label'], axis=1)\n",
        "y = data['label']\n",
        "\n",
        "# Split the data into random train and test sets\n",
        "X_train, X_test, y_train, y_test = train_test_split(X, y, test_size=0.2, random_state=42)\n",
        "print(X_train.shape)\n",
        "print(X_test.shape)"
      ],
      "metadata": {
        "colab": {
          "base_uri": "https://localhost:8080/"
        },
        "id": "ks-SM9dlsDiF",
        "outputId": "8ecb3f05-4b5f-4547-c66d-11ca1e6f30fb"
      },
      "execution_count": 6,
      "outputs": [
        {
          "output_type": "stream",
          "name": "stdout",
          "text": [
            "(196, 493)\n",
            "(50, 493)\n"
          ]
        }
      ]
    },
    {
      "cell_type": "markdown",
      "source": [
        "Preprocessing"
      ],
      "metadata": {
        "id": "nIUKrEuqUORB"
      }
    },
    {
      "cell_type": "code",
      "source": [
        "# ----- PREPROCESSING -----\n",
        "\n",
        "# Data scaling\n",
        "X_train = StandardScaler().fit_transform(X_train)"
      ],
      "metadata": {
        "id": "ttKfmwTtqVQZ"
      },
      "execution_count": 7,
      "outputs": []
    },
    {
      "cell_type": "markdown",
      "source": [
        "Feature selection"
      ],
      "metadata": {
        "id": "vkcTYjhiUTDH"
      }
    },
    {
      "cell_type": "code",
      "source": [
        "# ----- FEATURE SELECTION -----\n",
        "\n",
        "# Remove all constant (zero-variance) features\n",
        "X_train = pd.DataFrame(X_train)\n",
        "\n",
        "zero_var_filter = VarianceThreshold(threshold=0)\n",
        "zero_var_filter.fit(X_train)\n",
        "zero_var_columns = [column for column in X_train.columns if column not in X_train.columns[zero_var_filter.get_support()]]\n",
        "X_new = zero_var_filter.transform(X_train)\n",
        "\n",
        "removed_features = [data.columns[index] for index in zero_var_columns]\n",
        "print('The following constant features were removed:')\n",
        "for feature in removed_features:\n",
        "    print(f'- {feature}')"
      ],
      "metadata": {
        "colab": {
          "base_uri": "https://localhost:8080/"
        },
        "id": "8WybCloWrOjv",
        "outputId": "f297c0b2-b226-4cfc-f5e1-dd56546a6fdd"
      },
      "execution_count": 8,
      "outputs": [
        {
          "output_type": "stream",
          "name": "stdout",
          "text": [
            "The following constant features were removed:\n",
            "- PREDICT_original_tf_LBP_min_R3_P12\n",
            "- PREDICT_original_tf_LBP_kurtosis_R3_P12\n",
            "- PREDICT_original_tf_LBP_peak_R3_P12\n",
            "- PREDICT_original_tf_LBP_min_R8_P24\n",
            "- PREDICT_original_tf_LBP_peak_R8_P24\n",
            "- PREDICT_original_tf_LBP_min_R15_P36\n",
            "- PREDICT_original_tf_LBP_peak_R15_P36\n",
            "- PREDICT_original_phasef_monogenic_entropy_WL3_N5\n",
            "- PREDICT_original_phasef_phasecong_kurtosis_WL3_N5\n",
            "- PREDICT_original_phasef_phasecong_peak_WL3_N5\n",
            "- PREDICT_original_phasef_phasecong_entropy_WL3_N5\n",
            "- PREDICT_original_phasef_phasesym_kurtosis_WL3_N5\n",
            "- PREDICT_original_phasef_phasesym_peak_WL3_N5\n"
          ]
        }
      ]
    },
    {
      "cell_type": "markdown",
      "source": [
        "Feature selection test: Recursive Feature Elimination (RFE).\n",
        "\n",
        "This method eliminates the least important feature after recursively training. By default, the numer of features selected is the median of the total features"
      ],
      "metadata": {
        "id": "EecNQRMFriwo"
      }
    },
    {
      "cell_type": "code",
      "source": [
        "from sklearn.feature_selection import RFE\n",
        "from sklearn.linear_model import LogisticRegression\n",
        "\n",
        "# Select the best important features according to Logistic Regression\n",
        "rfe_selector = RFE(estimator=LogisticRegression(max_iter=1000), step=1)\n",
        "rfe_selector.fit(X_new,y_train)\n",
        "\n",
        "data_new = data.drop(data.columns[zero_var_columns], axis=1)\n",
        "del data_new[data_new.columns[0]]\n",
        "X_new = pd.DataFrame(X_new)\n",
        "\n",
        "print(rfe_selector.get_support())\n",
        "rfe_list = X_new.columns[rfe_selector.get_support()]\n",
        "print(rfe_list)\n",
        "#X_rfe = rfe_selector.transform(X_new)"
      ],
      "metadata": {
        "id": "k6loYx_shbK7",
        "outputId": "149a5d22-952f-4e34-f26e-bdff01c364a4",
        "colab": {
          "base_uri": "https://localhost:8080/"
        }
      },
      "execution_count": 9,
      "outputs": [
        {
          "output_type": "stream",
          "name": "stdout",
          "text": [
            "[ True  True False  True  True False False False  True False  True False\n",
            "  True  True  True  True False  True False  True False  True  True False\n",
            " False  True False False  True  True  True False  True  True False False\n",
            "  True False  True  True False  True  True  True False False  True False\n",
            " False  True False False False  True  True False  True  True  True False\n",
            " False  True  True False False  True False  True  True False  True  True\n",
            " False False  True  True False False  True  True False  True False False\n",
            "  True False  True False False  True  True  True False  True  True  True\n",
            " False False False False False False  True False False  True False False\n",
            " False False False False False False False False  True  True  True False\n",
            " False False  True False False  True  True False False False  True False\n",
            " False False False False False False False False  True  True False  True\n",
            "  True  True False False False False  True False False False False False\n",
            " False False False False False False False False False  True False False\n",
            " False  True  True  True  True  True  True False False False  True False\n",
            " False False  True False  True  True  True False  True  True  True False\n",
            " False False  True False  True  True  True  True False False  True False\n",
            " False False  True False False False  True False False False False False\n",
            " False False False  True  True  True  True  True  True  True False  True\n",
            " False False False  True  True  True  True  True False False False False\n",
            " False False False False  True False False  True  True False  True  True\n",
            "  True False False False False  True False False  True False  True  True\n",
            "  True  True  True  True  True False False False False  True False  True\n",
            "  True  True False  True  True False  True  True False  True False  True\n",
            "  True False  True False  True  True False  True False False  True  True\n",
            "  True False False False False False  True  True  True False  True  True\n",
            "  True False False  True  True False  True False False False  True  True\n",
            " False  True  True False  True  True False  True False  True False  True\n",
            "  True  True False  True  True False  True  True False  True  True False\n",
            "  True  True  True  True False  True False  True  True False  True False\n",
            " False  True False False  True False  True False  True False False  True\n",
            "  True False  True False  True  True False  True  True False  True False\n",
            " False  True False  True  True  True  True False  True  True  True False\n",
            " False  True False False  True False False  True False  True  True False\n",
            "  True False  True  True False False  True False  True False  True False\n",
            "  True  True False  True  True False False  True False  True False  True\n",
            " False  True  True False False  True  True False  True False False  True\n",
            "  True  True False  True  True  True False  True  True  True  True False\n",
            "  True  True  True  True False  True  True False  True  True False  True\n",
            " False  True  True  True  True  True  True False  True False False False]\n",
            "Int64Index([  0,   1,   3,   4,   8,  10,  12,  13,  14,  15,\n",
            "            ...\n",
            "            464, 465, 467, 469, 470, 471, 472, 473, 474, 476],\n",
            "           dtype='int64', length=240)\n"
          ]
        }
      ]
    },
    {
      "cell_type": "markdown",
      "source": [
        "Feature selection test: SelectFromModel.\n",
        "\n",
        "This method is based on the importance attribute. By default, features with an importance attribute above the mean (threshold) are selected."
      ],
      "metadata": {
        "id": "GLF9uaYqrwfd"
      }
    },
    {
      "cell_type": "code",
      "source": [
        "from sklearn.feature_selection import SelectFromModel\n",
        "\n",
        "# Select the best important features according to Logistic Regression using SelectFromModel\n",
        "sfm_selector = SelectFromModel(estimator=LogisticRegression(max_iter=1000))\n",
        "sfm_selector.fit(X_new, y_train)\n",
        "\n",
        "sfm_list = X_new.columns[sfm_selector.get_support()]\n",
        "print(sfm_list)"
      ],
      "metadata": {
        "id": "tVDAzIqFpBjF",
        "outputId": "57f8ed23-f8e1-4d09-dacd-db507cc6eb03",
        "colab": {
          "base_uri": "https://localhost:8080/"
        }
      },
      "execution_count": 10,
      "outputs": [
        {
          "output_type": "stream",
          "name": "stdout",
          "text": [
            "Int64Index([  0,   1,   3,   4,   8,  10,  13,  15,  17,  19,\n",
            "            ...\n",
            "            462, 464, 465, 467, 469, 470, 471, 472, 473, 476],\n",
            "           dtype='int64', length=181)\n"
          ]
        }
      ]
    },
    {
      "cell_type": "markdown",
      "source": [
        "Feature selection test: Recursive feature elimination with cross-validation.\n",
        "\n",
        "This method uses automatic tuning of the number of features selected with cross-validation. Here, a stratified 5-fold cross-validation is used. From the plot of the number of features versus the cross-validation scores, the test accuracy is shown and a plateau of equivalent scores is noticed."
      ],
      "metadata": {
        "id": "rzBPNeNVsCda"
      }
    },
    {
      "cell_type": "code",
      "source": [
        "from sklearn.feature_selection import RFECV\n",
        "from sklearn.model_selection import StratifiedKFold\n",
        "from sklearn.linear_model import LogisticRegression\n",
        "\n",
        "min_features_to_select = 1  # Minimum number of features to consider\n",
        "clf = LogisticRegression(max_iter=1000)\n",
        "cv = StratifiedKFold(5)\n",
        "\n",
        "rfecv = RFECV(\n",
        "    estimator=clf,\n",
        "    step=1,\n",
        "    cv=cv,\n",
        "    scoring=\"accuracy\",\n",
        "    min_features_to_select=min_features_to_select,\n",
        "    n_jobs=2,\n",
        ")\n",
        "rfecv.fit(X_new, y_train)\n",
        "\n",
        "print(f\"Optimal number of features: {rfecv.n_features_}\")"
      ],
      "metadata": {
        "id": "1OIbXlQJqO4k",
        "outputId": "ad25916e-a840-4908-b6c7-6e4eb2618695",
        "colab": {
          "base_uri": "https://localhost:8080/"
        }
      },
      "execution_count": 11,
      "outputs": [
        {
          "output_type": "stream",
          "name": "stdout",
          "text": [
            "Optimal number of features: 251\n"
          ]
        }
      ]
    },
    {
      "cell_type": "code",
      "source": [
        "import matplotlib.pyplot as plt\n",
        "\n",
        "n_scores = len(rfecv.cv_results_[\"mean_test_score\"])\n",
        "plt.figure()\n",
        "plt.xlabel(\"Number of features selected\")\n",
        "plt.ylabel(\"Mean test accuracy\")\n",
        "plt.errorbar(\n",
        "    range(min_features_to_select, n_scores + min_features_to_select),\n",
        "    rfecv.cv_results_[\"mean_test_score\"],\n",
        "    yerr=rfecv.cv_results_[\"std_test_score\"],\n",
        ")\n",
        "plt.title(\"Recursive Feature Elimination \\nwith correlated features\")\n",
        "plt.show()"
      ],
      "metadata": {
        "id": "2c5yHer3q3vi",
        "outputId": "07fe40c4-faa3-4abb-ab6f-640d90e0e215",
        "colab": {
          "base_uri": "https://localhost:8080/",
          "height": 493
        }
      },
      "execution_count": 12,
      "outputs": [
        {
          "output_type": "display_data",
          "data": {
            "text/plain": [
              "<Figure size 640x480 with 1 Axes>"
            ],
            "image/png": "[encoded data removed]"
          },
          "metadata": {}
        }
      ]
    },
    {
      "cell_type": "markdown",
      "source": [
        "Feature selection method: SelectKBest.\n",
        "\n",
        "This method selects features according to the 10 highest scores using f_classif."
      ],
      "metadata": {
        "id": "2e4A0eGBsyTK"
      }
    },
    {
      "cell_type": "code",
      "source": [
        "# Select features according to the k highest scores\n",
        "kbest_filter = SelectKBest(f_classif, k=10)\n",
        "kbest_filter.fit(X_new, y_train)\n",
        "\n",
        "data_new = data.drop(data.columns[zero_var_columns], axis=1)\n",
        "del data_new[data_new.columns[0]]\n",
        "kbest_list = kbest_filter.get_feature_names_out(input_features=data_new.columns)\n",
        "\n",
        "print('The selected 10 best features are:')\n",
        "for kbest in kbest_list:\n",
        "    print(f'- {kbest}')\n",
        "\n",
        "X_kbest = kbest_filter.transform(X_new)"
      ],
      "metadata": {
        "colab": {
          "base_uri": "https://localhost:8080/"
        },
        "id": "cYJ041Ey9riy",
        "outputId": "da93905d-102e-4037-b990-a9f10208eb9b"
      },
      "execution_count": 13,
      "outputs": [
        {
          "output_type": "stream",
          "name": "stdout",
          "text": [
            "The selected 10 best features are:\n",
            "- PREDICT_original_tf_GLCMMS_homogeneityd3.0A0.0mean\n",
            "- PREDICT_original_tf_GLCMMS_homogeneityd3.0A0.0std\n",
            "- PREDICT_original_tf_GLCMMS_homogeneityd3.0A0.79mean\n",
            "- PREDICT_original_tf_GLCMMS_homogeneityd3.0A0.79std\n",
            "- PREDICT_original_tf_GLCMMS_homogeneityd3.0A1.57mean\n",
            "- PREDICT_original_tf_GLCMMS_homogeneityd3.0A1.57std\n",
            "- PREDICT_original_tf_GLCMMS_homogeneityd3.0A2.36mean\n",
            "- PREDICT_original_tf_GLCMMS_homogeneityd3.0A2.36std\n",
            "- PREDICT_original_tf_Gabor_mean_F0.2_A0.79\n",
            "- PREDICT_original_tf_Gabor_mean_F0.5_A0.79\n"
          ]
        }
      ]
    },
    {
      "cell_type": "code",
      "source": [
        "X_kbest.shape"
      ],
      "metadata": {
        "id": "WWe7NtLdUMQC",
        "outputId": "b7902793-a181-4d84-d2ca-8d04d6188191",
        "colab": {
          "base_uri": "https://localhost:8080/"
        }
      },
      "execution_count": 14,
      "outputs": [
        {
          "output_type": "execute_result",
          "data": {
            "text/plain": [
              "(196, 10)"
            ]
          },
          "metadata": {},
          "execution_count": 14
        }
      ]
    }
  ]
}