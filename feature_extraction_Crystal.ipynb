{
  "nbformat": 4,
  "nbformat_minor": 0,
  "metadata": {
    "colab": {
      "provenance": [],
      "authorship_tag": "ABX9TyPvCUH5MBQ/gcF7XJgzawyY",
      "include_colab_link": true
    },
    "kernelspec": {
      "name": "python3",
      "display_name": "Python 3"
    },
    "language_info": {
      "name": "python"
    }
  },
  "cells": [
    {
      "cell_type": "markdown",
      "metadata": {
        "id": "view-in-github",
        "colab_type": "text"
      },
      "source": [
        "<a href=\"https://colab.research.google.com/github/crystaljwang/tm10007_group_3/blob/feature_extraction/feature_extraction_Crystal.ipynb\" target=\"_parent\"><img src=\"https://colab.research.google.com/assets/colab-badge.svg\" alt=\"Open In Colab\"/></a>"
      ]
    },
    {
      "cell_type": "markdown",
      "source": [
        "The code below loads the GIST data from GitHub."
      ],
      "metadata": {
        "id": "LExRxWGVRAyR"
      }
    },
    {
      "cell_type": "code",
      "execution_count": 121,
      "metadata": {
        "colab": {
          "base_uri": "https://localhost:8080/"
        },
        "id": "HUQ41FV4Q7m9",
        "outputId": "b6b5e922-3c3b-49a7-e699-f359d2574cf3"
      },
      "outputs": [
        {
          "output_type": "stream",
          "name": "stdout",
          "text": [
            "  Preparing metadata (setup.py) ... \u001b[?25l\u001b[?25hdone\n"
          ]
        }
      ],
      "source": [
        "# Run this to use from colab environment\n",
        "!pip install -q --upgrade git+https://github.com/jveenland/tm10007_ml.git"
      ]
    },
    {
      "cell_type": "code",
      "source": [
        "# Run this to use from colab environment\n",
        "!git clone https://github.com/jveenland/tm10007_ml.git"
      ],
      "metadata": {
        "colab": {
          "base_uri": "https://localhost:8080/"
        },
        "id": "o3jM6EgsQ-uu",
        "outputId": "bea2ad13-1881-49d0-90c8-410ba668290d"
      },
      "execution_count": 122,
      "outputs": [
        {
          "output_type": "stream",
          "name": "stdout",
          "text": [
            "fatal: destination path 'tm10007_ml' already exists and is not an empty directory.\n"
          ]
        }
      ]
    },
    {
      "cell_type": "code",
      "source": [
        "%cd /content/tm10007_ml/worcgist"
      ],
      "metadata": {
        "colab": {
          "base_uri": "https://localhost:8080/"
        },
        "id": "-Ud1sGjVRaRw",
        "outputId": "520996c2-04b0-4cc6-c7cd-66b6a167ef96"
      },
      "execution_count": 123,
      "outputs": [
        {
          "output_type": "stream",
          "name": "stdout",
          "text": [
            "/content/tm10007_ml/worcgist\n"
          ]
        }
      ]
    },
    {
      "cell_type": "code",
      "source": [
        "# Import necessary libraries\n",
        "import pandas as pd\n",
        "import numpy as np\n",
        "\n",
        "from pathlib import Path\n",
        "from sklearn.preprocessing import StandardScaler\n",
        "from sklearn.feature_selection import SelectKBest, f_classif\n",
        "from sklearn.model_selection import train_test_split\n",
        "from sklearn.feature_selection import VarianceThreshold"
      ],
      "metadata": {
        "id": "dBVHB8egrEs-"
      },
      "execution_count": 124,
      "outputs": []
    },
    {
      "cell_type": "code",
      "source": [
        "dir = Path('.') / 'GIST_radiomicFeatures.csv'\n",
        "data = pd.read_csv(dir, index_col=0)\n",
        "\n",
        "print(f'The number of samples: {len(data.index)}')\n",
        "print(f'The number of columns: {len(data.columns)}')\n",
        "data.info()"
      ],
      "metadata": {
        "colab": {
          "base_uri": "https://localhost:8080/"
        },
        "id": "gOwJctD-Ri7N",
        "outputId": "c0fe6cd0-b0d3-497e-d069-0c7700788f54"
      },
      "execution_count": 125,
      "outputs": [
        {
          "output_type": "stream",
          "name": "stdout",
          "text": [
            "The number of samples: 246\n",
            "The number of columns: 494\n",
            "<class 'pandas.core.frame.DataFrame'>\n",
            "Index: 246 entries, GIST-001_0 to GIST-246_0\n",
            "Columns: 494 entries, label to PREDICT_original_phasef_phasesym_entropy_WL3_N5\n",
            "dtypes: float64(468), int64(25), object(1)\n",
            "memory usage: 951.3+ KB\n"
          ]
        }
      ]
    },
    {
      "cell_type": "code",
      "source": [
        "# ----- PREPROCESSING -----\n",
        "\n",
        "# Replace label values from string to binary\n",
        "data['label'] = data['label'].replace({'GIST': 1, 'non-GIST': 0})\n",
        "\n",
        "# Separate the features and labels\n",
        "X = data.drop(['label'], axis=1)\n",
        "y = data['label']\n",
        "\n",
        "# Data scaling\n",
        "X = StandardScaler().fit_transform(X)"
      ],
      "metadata": {
        "id": "ttKfmwTtqVQZ"
      },
      "execution_count": 126,
      "outputs": []
    },
    {
      "cell_type": "code",
      "source": [
        "# ----- SPLITTING THE DATA -----\n",
        "\n",
        "# Split the data into random train and test sets\n",
        "X_train, X_test, y_train, y_test = train_test_split(X, y, test_size=0.2, random_state=42)\n",
        "print(X_train.shape)\n",
        "print(X_test.shape)"
      ],
      "metadata": {
        "colab": {
          "base_uri": "https://localhost:8080/"
        },
        "id": "ks-SM9dlsDiF",
        "outputId": "73552e8e-8fc4-4c92-882a-556b658ea98b"
      },
      "execution_count": 127,
      "outputs": [
        {
          "output_type": "stream",
          "name": "stdout",
          "text": [
            "(196, 493)\n",
            "(50, 493)\n"
          ]
        }
      ]
    },
    {
      "cell_type": "code",
      "source": [
        "# ----- FEATURE SELECTION -----\n",
        "\n",
        "# Remove all constant (zero-variance) features\n",
        "X_train = pd.DataFrame(X_train)\n",
        "\n",
        "zero_var_filter = VarianceThreshold(threshold=0)\n",
        "zero_var_filter.fit(X_train)\n",
        "zero_var_columns = [column for column in X_train.columns if column not in X_train.columns[zero_var_filter.get_support()]]\n",
        "X_new = zero_var_filter.transform(X_train)\n",
        "\n",
        "removed_features = [data.columns[index] for index in zero_var_columns]\n",
        "print('The following constant features were removed:')\n",
        "for feature in removed_features:\n",
        "  print(f'- {feature}')\n",
        "\n",
        "# Select features according to the k highest scores\n",
        "X_kbest = SelectKBest(f_classif, k=10).fit_transform(X_new, y_train)"
      ],
      "metadata": {
        "colab": {
          "base_uri": "https://localhost:8080/"
        },
        "id": "8WybCloWrOjv",
        "outputId": "2b05e823-bf87-43c1-8ca9-3191eb2c5d03"
      },
      "execution_count": 128,
      "outputs": [
        {
          "output_type": "stream",
          "name": "stdout",
          "text": [
            "The following constant features were removed:\n",
            "- PREDICT_original_tf_LBP_min_R3_P12\n",
            "- PREDICT_original_tf_LBP_kurtosis_R3_P12\n",
            "- PREDICT_original_tf_LBP_peak_R3_P12\n",
            "- PREDICT_original_tf_LBP_min_R8_P24\n",
            "- PREDICT_original_tf_LBP_peak_R8_P24\n",
            "- PREDICT_original_tf_LBP_min_R15_P36\n",
            "- PREDICT_original_tf_LBP_peak_R15_P36\n",
            "- PREDICT_original_phasef_monogenic_entropy_WL3_N5\n",
            "- PREDICT_original_phasef_phasecong_kurtosis_WL3_N5\n",
            "- PREDICT_original_phasef_phasecong_peak_WL3_N5\n",
            "- PREDICT_original_phasef_phasecong_entropy_WL3_N5\n",
            "- PREDICT_original_phasef_phasesym_kurtosis_WL3_N5\n",
            "- PREDICT_original_phasef_phasesym_peak_WL3_N5\n"
          ]
        }
      ]
    },
    {
      "cell_type": "code",
      "source": [
        "X_kbest.shape"
      ],
      "metadata": {
        "colab": {
          "base_uri": "https://localhost:8080/"
        },
        "id": "cYJ041Ey9riy",
        "outputId": "eb01b5cd-4394-449a-fd6b-bdce9b59f091"
      },
      "execution_count": 129,
      "outputs": [
        {
          "output_type": "execute_result",
          "data": {
            "text/plain": [
              "(196, 10)"
            ]
          },
          "metadata": {},
          "execution_count": 129
        }
      ]
    }
  ]
}