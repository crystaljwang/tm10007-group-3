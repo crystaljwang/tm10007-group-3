{
  "nbformat": 4,
  "nbformat_minor": 0,
  "metadata": {
    "colab": {
      "provenance": [],
      "authorship_tag": "ABX9TyPsQFtIvLyFoYod1y1h8U12",
      "include_colab_link": true
    },
    "kernelspec": {
      "name": "python3",
      "display_name": "Python 3"
    },
    "language_info": {
      "name": "python"
    }
  },
  "cells": [
    {
      "cell_type": "markdown",
      "metadata": {
        "id": "view-in-github",
        "colab_type": "text"
      },
      "source": [
        "<a href=\"https://colab.research.google.com/github/crystaljwang/tm10007_group_3/blob/feature_extraction/feature_extraction_Crystal.ipynb\" target=\"_parent\"><img src=\"https://colab.research.google.com/assets/colab-badge.svg\" alt=\"Open In Colab\"/></a>"
      ]
    },
    {
      "cell_type": "markdown",
      "source": [
        "Loading the GIST data from GitHub"
      ],
      "metadata": {
        "id": "LExRxWGVRAyR"
      }
    },
    {
      "cell_type": "code",
      "execution_count": 97,
      "metadata": {
        "colab": {
          "base_uri": "https://localhost:8080/"
        },
        "id": "HUQ41FV4Q7m9",
        "outputId": "084bc4fd-4f51-43fe-aeb2-215c5344582a"
      },
      "outputs": [
        {
          "output_type": "stream",
          "name": "stdout",
          "text": [
            "  Preparing metadata (setup.py) ... \u001b[?25l\u001b[?25hdone\n"
          ]
        }
      ],
      "source": [
        "# Run this to use from colab environment\n",
        "!pip install -q --upgrade git+https://github.com/jveenland/tm10007_ml.git"
      ]
    },
    {
      "cell_type": "code",
      "source": [
        "# Run this to use from colab environment\n",
        "!git clone https://github.com/jveenland/tm10007_ml.git"
      ],
      "metadata": {
        "colab": {
          "base_uri": "https://localhost:8080/"
        },
        "id": "o3jM6EgsQ-uu",
        "outputId": "06049abd-8874-4ecc-dcbd-afc16375d04c"
      },
      "execution_count": 98,
      "outputs": [
        {
          "output_type": "stream",
          "name": "stdout",
          "text": [
            "fatal: destination path 'tm10007_ml' already exists and is not an empty directory.\n"
          ]
        }
      ]
    },
    {
      "cell_type": "code",
      "source": [
        "%cd /content/tm10007_ml/worcgist"
      ],
      "metadata": {
        "colab": {
          "base_uri": "https://localhost:8080/"
        },
        "id": "-Ud1sGjVRaRw",
        "outputId": "6f94fe63-4f41-49ae-f925-6b335c5656aa"
      },
      "execution_count": 99,
      "outputs": [
        {
          "output_type": "stream",
          "name": "stdout",
          "text": [
            "/content/tm10007_ml/worcgist\n"
          ]
        }
      ]
    },
    {
      "cell_type": "code",
      "source": [
        "# Import necessary libraries\n",
        "import pandas as pd\n",
        "import numpy as np\n",
        "\n",
        "from pathlib import Path\n",
        "from sklearn.preprocessing import StandardScaler\n",
        "from sklearn.feature_selection import SelectKBest, f_classif\n",
        "from sklearn.model_selection import train_test_split\n",
        "from sklearn.feature_selection import VarianceThreshold"
      ],
      "metadata": {
        "id": "dBVHB8egrEs-"
      },
      "execution_count": 100,
      "outputs": []
    },
    {
      "cell_type": "code",
      "source": [
        "dir = Path('.') / 'GIST_radiomicFeatures.csv'\n",
        "data = pd.read_csv(dir, index_col=0)\n",
        "\n",
        "print(f'The number of samples: {len(data.index)}')\n",
        "print(f'The number of columns: {len(data.columns)}')\n",
        "data.info()"
      ],
      "metadata": {
        "colab": {
          "base_uri": "https://localhost:8080/"
        },
        "id": "gOwJctD-Ri7N",
        "outputId": "53cd06c8-6cd3-4b40-8b6a-ba3b1f688039"
      },
      "execution_count": 101,
      "outputs": [
        {
          "output_type": "stream",
          "name": "stdout",
          "text": [
            "The number of samples: 246\n",
            "The number of columns: 494\n",
            "<class 'pandas.core.frame.DataFrame'>\n",
            "Index: 246 entries, GIST-001_0 to GIST-246_0\n",
            "Columns: 494 entries, label to PREDICT_original_phasef_phasesym_entropy_WL3_N5\n",
            "dtypes: float64(468), int64(25), object(1)\n",
            "memory usage: 951.3+ KB\n"
          ]
        }
      ]
    },
    {
      "cell_type": "markdown",
      "source": [
        "Preprocessing"
      ],
      "metadata": {
        "id": "nIUKrEuqUORB"
      }
    },
    {
      "cell_type": "code",
      "source": [
        "# ----- PREPROCESSING -----\n",
        "\n",
        "# Replace label values from string to binary\n",
        "data['label'] = data['label'].replace({'GIST': 1, 'non-GIST': 0})\n",
        "\n",
        "# Separate the features and labels\n",
        "X = data.drop(['label'], axis=1)\n",
        "y = data['label']\n",
        "\n",
        "# Data scaling\n",
        "X = StandardScaler().fit_transform(X)"
      ],
      "metadata": {
        "id": "ttKfmwTtqVQZ"
      },
      "execution_count": 102,
      "outputs": []
    },
    {
      "cell_type": "markdown",
      "source": [
        "Splitting the data"
      ],
      "metadata": {
        "id": "I272I7YrURCc"
      }
    },
    {
      "cell_type": "code",
      "source": [
        "# ----- SPLITTING THE DATA -----\n",
        "\n",
        "# Split the data into random train and test sets\n",
        "X_train, X_test, y_train, y_test = train_test_split(X, y, test_size=0.2, random_state=42)\n",
        "print(X_train.shape)\n",
        "print(X_test.shape)"
      ],
      "metadata": {
        "colab": {
          "base_uri": "https://localhost:8080/"
        },
        "id": "ks-SM9dlsDiF",
        "outputId": "04931767-f826-4e2c-aa3d-820c72a7b34e"
      },
      "execution_count": 103,
      "outputs": [
        {
          "output_type": "stream",
          "name": "stdout",
          "text": [
            "(196, 493)\n",
            "(50, 493)\n"
          ]
        }
      ]
    },
    {
      "cell_type": "markdown",
      "source": [
        "Feature selection"
      ],
      "metadata": {
        "id": "vkcTYjhiUTDH"
      }
    },
    {
      "cell_type": "code",
      "source": [
        "# ----- FEATURE SELECTION -----\n",
        "\n",
        "# Remove all constant (zero-variance) features\n",
        "X_train = pd.DataFrame(X_train)\n",
        "\n",
        "zero_var_filter = VarianceThreshold(threshold=0)\n",
        "zero_var_filter.fit(X_train)\n",
        "zero_var_columns = [column for column in X_train.columns if column not in X_train.columns[zero_var_filter.get_support()]]\n",
        "X_new = zero_var_filter.transform(X_train)\n",
        "\n",
        "removed_features = [data.columns[index] for index in zero_var_columns]\n",
        "print('The following constant features were removed:')\n",
        "for feature in removed_features:\n",
        "    print(f'- {feature}')"
      ],
      "metadata": {
        "colab": {
          "base_uri": "https://localhost:8080/"
        },
        "id": "8WybCloWrOjv",
        "outputId": "d84069da-9c64-4150-ef15-877e3a4e329d"
      },
      "execution_count": 104,
      "outputs": [
        {
          "output_type": "stream",
          "name": "stdout",
          "text": [
            "The following constant features were removed:\n",
            "- PREDICT_original_tf_LBP_min_R3_P12\n",
            "- PREDICT_original_tf_LBP_kurtosis_R3_P12\n",
            "- PREDICT_original_tf_LBP_peak_R3_P12\n",
            "- PREDICT_original_tf_LBP_min_R8_P24\n",
            "- PREDICT_original_tf_LBP_peak_R8_P24\n",
            "- PREDICT_original_tf_LBP_min_R15_P36\n",
            "- PREDICT_original_tf_LBP_peak_R15_P36\n",
            "- PREDICT_original_phasef_monogenic_entropy_WL3_N5\n",
            "- PREDICT_original_phasef_phasecong_kurtosis_WL3_N5\n",
            "- PREDICT_original_phasef_phasecong_peak_WL3_N5\n",
            "- PREDICT_original_phasef_phasecong_entropy_WL3_N5\n",
            "- PREDICT_original_phasef_phasesym_kurtosis_WL3_N5\n",
            "- PREDICT_original_phasef_phasesym_peak_WL3_N5\n"
          ]
        }
      ]
    },
    {
      "cell_type": "code",
      "source": [
        "# Select features according to the k highest scores\n",
        "kbest_filter = SelectKBest(f_classif, k=10)\n",
        "kbest_filter.fit(X_new, y_train)\n",
        "\n",
        "data_new = data.drop(data.columns[zero_var_columns], axis=1)\n",
        "del data_new[data_new.columns[0]]\n",
        "kbest_list = kbest_filter.get_feature_names_out(input_features=data_new.columns)\n",
        "\n",
        "print('The selected 10 best features are:')\n",
        "for kbest in kbest_list:\n",
        "    print(f'- {kbest}')\n",
        "\n",
        "X_kbest = best_features.transform(X_new)"
      ],
      "metadata": {
        "colab": {
          "base_uri": "https://localhost:8080/"
        },
        "id": "cYJ041Ey9riy",
        "outputId": "13c8c02f-5ddc-4dff-c5c3-cad082829b53"
      },
      "execution_count": 105,
      "outputs": [
        {
          "output_type": "stream",
          "name": "stdout",
          "text": [
            "The selected 10 best features are:\n",
            "- PREDICT_original_tf_GLCMMS_homogeneityd3.0A0.0mean\n",
            "- PREDICT_original_tf_GLCMMS_homogeneityd3.0A0.0std\n",
            "- PREDICT_original_tf_GLCMMS_homogeneityd3.0A0.79mean\n",
            "- PREDICT_original_tf_GLCMMS_homogeneityd3.0A0.79std\n",
            "- PREDICT_original_tf_GLCMMS_homogeneityd3.0A1.57mean\n",
            "- PREDICT_original_tf_GLCMMS_homogeneityd3.0A1.57std\n",
            "- PREDICT_original_tf_GLCMMS_homogeneityd3.0A2.36mean\n",
            "- PREDICT_original_tf_GLCMMS_homogeneityd3.0A2.36std\n",
            "- PREDICT_original_tf_Gabor_mean_F0.2_A0.79\n",
            "- PREDICT_original_tf_Gabor_mean_F0.5_A0.79\n"
          ]
        }
      ]
    },
    {
      "cell_type": "code",
      "source": [
        "X_kbest.shape"
      ],
      "metadata": {
        "id": "WWe7NtLdUMQC",
        "outputId": "04d1e6db-2091-4257-b28f-e8d18516ee77",
        "colab": {
          "base_uri": "https://localhost:8080/"
        }
      },
      "execution_count": 106,
      "outputs": [
        {
          "output_type": "execute_result",
          "data": {
            "text/plain": [
              "(196, 10)"
            ]
          },
          "metadata": {},
          "execution_count": 106
        }
      ]
    }
  ]
}