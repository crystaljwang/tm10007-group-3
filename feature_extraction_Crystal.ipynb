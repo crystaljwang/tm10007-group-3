{
  "nbformat": 4,
  "nbformat_minor": 0,
  "metadata": {
    "colab": {
      "provenance": [],
      "authorship_tag": "ABX9TyObF7y2wU4F6BBgfStHUbki",
      "include_colab_link": true
    },
    "kernelspec": {
      "name": "python3",
      "display_name": "Python 3"
    },
    "language_info": {
      "name": "python"
    }
  },
  "cells": [
    {
      "cell_type": "markdown",
      "metadata": {
        "id": "view-in-github",
        "colab_type": "text"
      },
      "source": [
        "<a href=\"https://colab.research.google.com/github/crystaljwang/tm10007_group_3/blob/preprocessing/feature_extraction_Crystal.ipynb\" target=\"_parent\"><img src=\"https://colab.research.google.com/assets/colab-badge.svg\" alt=\"Open In Colab\"/></a>"
      ]
    },
    {
      "cell_type": "markdown",
      "source": [
        "Loading the GIST data from GitHub"
      ],
      "metadata": {
        "id": "LExRxWGVRAyR"
      }
    },
    {
      "cell_type": "code",
      "execution_count": 131,
      "metadata": {
        "colab": {
          "base_uri": "https://localhost:8080/"
        },
        "id": "HUQ41FV4Q7m9",
        "outputId": "fd63c3ea-a2e3-4038-de98-bec0e08f798d"
      },
      "outputs": [
        {
          "output_type": "stream",
          "name": "stdout",
          "text": [
            "  Preparing metadata (setup.py) ... \u001b[?25l\u001b[?25hdone\n"
          ]
        }
      ],
      "source": [
        "# Run this to use from colab environment\n",
        "!pip install -q --upgrade git+https://github.com/jveenland/tm10007_ml.git"
      ]
    },
    {
      "cell_type": "code",
      "source": [
        "# Run this to use from colab environment\n",
        "!git clone https://github.com/jveenland/tm10007_ml.git"
      ],
      "metadata": {
        "colab": {
          "base_uri": "https://localhost:8080/"
        },
        "id": "o3jM6EgsQ-uu",
        "outputId": "03a0a840-d8ef-43b3-ace5-5e947798e24e"
      },
      "execution_count": 132,
      "outputs": [
        {
          "output_type": "stream",
          "name": "stdout",
          "text": [
            "fatal: destination path 'tm10007_ml' already exists and is not an empty directory.\n"
          ]
        }
      ]
    },
    {
      "cell_type": "code",
      "source": [
        "%cd /content/tm10007_ml/worcgist"
      ],
      "metadata": {
        "colab": {
          "base_uri": "https://localhost:8080/"
        },
        "id": "-Ud1sGjVRaRw",
        "outputId": "1ad19e68-b4ba-42ec-b805-5922ad949101"
      },
      "execution_count": 133,
      "outputs": [
        {
          "output_type": "stream",
          "name": "stdout",
          "text": [
            "/content/tm10007_ml/worcgist\n"
          ]
        }
      ]
    },
    {
      "cell_type": "code",
      "source": [
        "# Import necessary libraries\n",
        "import pandas as pd\n",
        "import numpy as np\n",
        "\n",
        "from pathlib import Path\n",
        "from sklearn.preprocessing import MinMaxScaler\n",
        "from sklearn.feature_selection import SelectKBest, f_classif\n",
        "from sklearn.model_selection import train_test_split\n",
        "from sklearn.feature_selection import VarianceThreshold"
      ],
      "metadata": {
        "id": "dBVHB8egrEs-"
      },
      "execution_count": 134,
      "outputs": []
    },
    {
      "cell_type": "code",
      "source": [
        "dir = Path('.') / 'GIST_radiomicFeatures.csv'\n",
        "data = pd.read_csv(dir, index_col=0)\n",
        "\n",
        "print(f'The number of samples: {len(data.index)}')\n",
        "print(f'The number of columns: {len(data.columns)}')\n",
        "data.info()"
      ],
      "metadata": {
        "colab": {
          "base_uri": "https://localhost:8080/"
        },
        "id": "gOwJctD-Ri7N",
        "outputId": "466a371b-4215-43c4-e4d4-ac2ea9c856e3"
      },
      "execution_count": 157,
      "outputs": [
        {
          "output_type": "stream",
          "name": "stdout",
          "text": [
            "The number of samples: 246\n",
            "The number of columns: 494\n",
            "<class 'pandas.core.frame.DataFrame'>\n",
            "Index: 246 entries, GIST-001_0 to GIST-246_0\n",
            "Columns: 494 entries, label to PREDICT_original_phasef_phasesym_entropy_WL3_N5\n",
            "dtypes: float64(468), int64(25), object(1)\n",
            "memory usage: 951.3+ KB\n"
          ]
        }
      ]
    },
    {
      "cell_type": "markdown",
      "source": [
        "Splitting the data"
      ],
      "metadata": {
        "id": "I272I7YrURCc"
      }
    },
    {
      "cell_type": "code",
      "source": [
        "# ----- SPLITTING THE DATA -----\n",
        "\n",
        "# Replace label values from string to binary\n",
        "data['label'] = data['label'].replace({'GIST': 1, 'non-GIST': 0})\n",
        "\n",
        "# Separate the features and labels\n",
        "X = data.drop(['label'], axis=1)\n",
        "y = data['label']\n",
        "\n",
        "# Split the data into random train and test sets\n",
        "X_train, X_test, y_train, y_test = train_test_split(X, y, test_size=0.2, random_state=42)\n",
        "print(X_train.shape)\n",
        "print(X_test.shape)"
      ],
      "metadata": {
        "colab": {
          "base_uri": "https://localhost:8080/"
        },
        "id": "ks-SM9dlsDiF",
        "outputId": "53938fd4-5d67-479f-a263-ff9b00439601"
      },
      "execution_count": 158,
      "outputs": [
        {
          "output_type": "stream",
          "name": "stdout",
          "text": [
            "(196, 493)\n",
            "(50, 493)\n"
          ]
        }
      ]
    },
    {
      "cell_type": "markdown",
      "source": [
        "Preprocessing\n",
        "\n",
        "The following code blocks perform some preprocessing actions on the data, such as scaling and removing constant features."
      ],
      "metadata": {
        "id": "nIUKrEuqUORB"
      }
    },
    {
      "cell_type": "code",
      "source": [
        "# ----- PREPROCESSING -----\n",
        "\n",
        "# Data scaling\n",
        "X_train = MinMaxScaler().fit_transform(X_train)"
      ],
      "metadata": {
        "id": "ttKfmwTtqVQZ"
      },
      "execution_count": 159,
      "outputs": []
    },
    {
      "cell_type": "code",
      "source": [
        "# Remove all constant (zero-variance) features\n",
        "X_train = pd.DataFrame(X_train)\n",
        "\n",
        "zero_var_filter = VarianceThreshold(threshold=0)\n",
        "zero_var_filter.fit(X_train)\n",
        "zero_var_columns = [column for column in X_train.columns if column not in X_train.columns[zero_var_filter.get_support()]]\n",
        "X_train = zero_var_filter.transform(X_train)\n",
        "\n",
        "removed_features = [data.columns[index] for index in zero_var_columns]\n",
        "print('The following constant features were removed:')\n",
        "for feature in removed_features:\n",
        "    print(f'- {feature}')"
      ],
      "metadata": {
        "colab": {
          "base_uri": "https://localhost:8080/"
        },
        "id": "8WybCloWrOjv",
        "outputId": "f049319a-2581-49ed-bd04-e00673cb567f"
      },
      "execution_count": 160,
      "outputs": [
        {
          "output_type": "stream",
          "name": "stdout",
          "text": [
            "The following constant features were removed:\n",
            "- PREDICT_original_tf_LBP_min_R3_P12\n",
            "- PREDICT_original_tf_LBP_kurtosis_R3_P12\n",
            "- PREDICT_original_tf_LBP_peak_R3_P12\n",
            "- PREDICT_original_tf_LBP_min_R8_P24\n",
            "- PREDICT_original_tf_LBP_peak_R8_P24\n",
            "- PREDICT_original_tf_LBP_min_R15_P36\n",
            "- PREDICT_original_tf_LBP_peak_R15_P36\n",
            "- PREDICT_original_phasef_monogenic_entropy_WL3_N5\n",
            "- PREDICT_original_phasef_phasecong_kurtosis_WL3_N5\n",
            "- PREDICT_original_phasef_phasecong_peak_WL3_N5\n",
            "- PREDICT_original_phasef_phasecong_entropy_WL3_N5\n",
            "- PREDICT_original_phasef_phasesym_kurtosis_WL3_N5\n",
            "- PREDICT_original_phasef_phasesym_peak_WL3_N5\n"
          ]
        }
      ]
    },
    {
      "cell_type": "markdown",
      "source": [
        "Feature selection\n",
        "\n",
        "The following code block uses Lasso to select all features with a weight above the median."
      ],
      "metadata": {
        "id": "f40SifJ9Edyw"
      }
    },
    {
      "cell_type": "code",
      "source": [
        "# ----- Feature selection -----\n",
        "\n",
        "from sklearn.linear_model import Lasso\n",
        "\n",
        "lasso_selector = SelectFromModel(estimator=Lasso(alpha=10**(-10), max_iter=1000), threshold='median')\n",
        "lasso_selector.fit(X_train, y_train)\n",
        "lasso_list = [column for column in pd.DataFrame(X_train).columns[lasso_selector.get_support()]]\n",
        "n_original = X_train.shape[1]\n",
        "\n",
        "X_train = selector.transform(X_train)\n",
        "n_selected = X_train.shape[1]\n",
        "print(f\"Selected {n_selected} from {n_original} features.\")"
      ],
      "metadata": {
        "id": "LrYD9a1hEpuS",
        "outputId": "e5cf34d1-5506-4cc4-a5f8-b11139bc3766",
        "colab": {
          "base_uri": "https://localhost:8080/"
        }
      },
      "execution_count": 147,
      "outputs": [
        {
          "output_type": "stream",
          "name": "stdout",
          "text": [
            "Selected 240 from 480 features.\n"
          ]
        }
      ]
    },
    {
      "cell_type": "code",
      "source": [
        "X_train.shape"
      ],
      "metadata": {
        "id": "epB2bMoMQklI",
        "outputId": "6bf66419-d41d-4606-eeeb-797318f6ee15",
        "colab": {
          "base_uri": "https://localhost:8080/"
        }
      },
      "execution_count": 161,
      "outputs": [
        {
          "output_type": "execute_result",
          "data": {
            "text/plain": [
              "(196, 480)"
            ]
          },
          "metadata": {},
          "execution_count": 161
        }
      ]
    },
    {
      "cell_type": "markdown",
      "source": [
        "Feature extraction\n",
        "\n",
        "The following code block uses principal component analysis (PCA) for dimensionality reduction of the selected optimal number of features."
      ],
      "metadata": {
        "id": "deg1cjhGInnJ"
      }
    },
    {
      "cell_type": "code",
      "source": [
        "# ----- Feature extraction -----\n",
        "\n",
        "from sklearn.decomposition import PCA\n",
        "\n",
        "# 95% variance\n",
        "pca = PCA(n_components = 0.95)\n",
        "pca.fit(X_train)\n",
        "X_train = pca.transform(X_train)\n",
        "\n",
        "print(f\"Selected {X_train.shape[1]} features to be used for classification.\")"
      ],
      "metadata": {
        "id": "m-eh0HwG4iZ0",
        "outputId": "d096c06c-1a6b-4051-8548-811be928a604",
        "colab": {
          "base_uri": "https://localhost:8080/"
        }
      },
      "execution_count": 162,
      "outputs": [
        {
          "output_type": "stream",
          "name": "stdout",
          "text": [
            "Selected 52 features to be used for classification.\n"
          ]
        }
      ]
    },
    {
      "cell_type": "markdown",
      "source": [
        "Feature selection method: SelectKBest.\n",
        "\n",
        "This method selects features according to the 10 highest scores using f_classif."
      ],
      "metadata": {
        "id": "2e4A0eGBsyTK"
      }
    },
    {
      "cell_type": "code",
      "source": [
        "# Select features according to the k highest scores\n",
        "kbest_filter = SelectKBest(f_classif, k=10)\n",
        "kbest_filter.fit(X_new, y_train)\n",
        "\n",
        "data_new = data.drop(data.columns[zero_var_columns], axis=1)\n",
        "del data_new[data_new.columns[0]]\n",
        "kbest_list = kbest_filter.get_feature_names_out(input_features=data_new.columns)\n",
        "\n",
        "print('The selected 10 best features are:')\n",
        "for kbest in kbest_list:\n",
        "    print(f'- {kbest}')\n",
        "\n",
        "X_kbest = kbest_filter.transform(X_new)"
      ],
      "metadata": {
        "colab": {
          "base_uri": "https://localhost:8080/"
        },
        "id": "cYJ041Ey9riy",
        "outputId": "e57622c1-ca0e-4a67-b542-6056bc09e243"
      },
      "execution_count": 141,
      "outputs": [
        {
          "output_type": "stream",
          "name": "stdout",
          "text": [
            "The selected 10 best features are:\n",
            "- PREDICT_original_tf_GLCMMS_homogeneityd3.0A0.0mean\n",
            "- PREDICT_original_tf_GLCMMS_homogeneityd3.0A0.0std\n",
            "- PREDICT_original_tf_GLCMMS_homogeneityd3.0A0.79mean\n",
            "- PREDICT_original_tf_GLCMMS_homogeneityd3.0A0.79std\n",
            "- PREDICT_original_tf_GLCMMS_homogeneityd3.0A1.57mean\n",
            "- PREDICT_original_tf_GLCMMS_homogeneityd3.0A1.57std\n",
            "- PREDICT_original_tf_GLCMMS_homogeneityd3.0A2.36mean\n",
            "- PREDICT_original_tf_GLCMMS_homogeneityd3.0A2.36std\n",
            "- PREDICT_original_tf_Gabor_mean_F0.2_A0.79\n",
            "- PREDICT_original_tf_Gabor_mean_F0.5_A0.79\n"
          ]
        }
      ]
    },
    {
      "cell_type": "code",
      "source": [
        "X_kbest.shape"
      ],
      "metadata": {
        "id": "WWe7NtLdUMQC",
        "outputId": "1108df7f-93e2-4259-cafd-6326aa1c4289",
        "colab": {
          "base_uri": "https://localhost:8080/"
        }
      },
      "execution_count": 142,
      "outputs": [
        {
          "output_type": "execute_result",
          "data": {
            "text/plain": [
              "(196, 10)"
            ]
          },
          "metadata": {},
          "execution_count": 142
        }
      ]
    }
  ]
}