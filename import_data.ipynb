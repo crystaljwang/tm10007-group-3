{
  "cells": [
    {
      "cell_type": "markdown",
      "metadata": {
        "colab_type": "text",
        "id": "view-in-github"
      },
      "source": [
        "<a href=\"https://colab.research.google.com/github/crystaljwang/tm10007_group_3/blob/import_data/ML_Crystal.ipynb\" target=\"_parent\"><img src=\"https://colab.research.google.com/assets/colab-badge.svg\" alt=\"Open In Colab\"/></a>"
      ]
    },
    {
      "cell_type": "markdown",
      "metadata": {
        "id": "LExRxWGVRAyR"
      },
      "source": [
        "The code below loads the GIST data from GitHub."
      ]
    },
    {
      "cell_type": "code",
      "execution_count": 6,
      "metadata": {
        "colab": {
          "base_uri": "https://localhost:8080/"
        },
        "id": "HUQ41FV4Q7m9",
        "outputId": "86ecbdbd-7b57-4c71-d85d-8a9b2566c078"
      },
      "outputs": [
        {
          "ename": "SyntaxError",
          "evalue": "invalid syntax (3447734670.py, line 2)",
          "output_type": "error",
          "traceback": [
            "\u001b[1;36m  Cell \u001b[1;32mIn[6], line 2\u001b[1;36m\u001b[0m\n\u001b[1;33m    pip install -q --upgrade git+https://github.com/jveenland/tm10007_ml.git\u001b[0m\n\u001b[1;37m        ^\u001b[0m\n\u001b[1;31mSyntaxError\u001b[0m\u001b[1;31m:\u001b[0m invalid syntax\n"
          ]
        }
      ],
      "source": [
        "# Run this to use from colab environment\n",
        "!pip install -q --upgrade git+https://github.com/jveenland/tm10007_ml.git"
      ]
    },
    {
      "cell_type": "code",
      "execution_count": null,
      "metadata": {
        "colab": {
          "base_uri": "https://localhost:8080/"
        },
        "id": "o3jM6EgsQ-uu",
        "outputId": "f5ce71e3-98eb-441e-f04c-49995e9bf3b8"
      },
      "outputs": [
        {
          "ename": "SyntaxError",
          "evalue": "invalid syntax (3994390392.py, line 2)",
          "output_type": "error",
          "traceback": [
            "\u001b[1;36m  Cell \u001b[1;32mIn[5], line 2\u001b[1;36m\u001b[0m\n\u001b[1;33m    git clone https://github.com/jveenland/tm10007_ml.git\u001b[0m\n\u001b[1;37m        ^\u001b[0m\n\u001b[1;31mSyntaxError\u001b[0m\u001b[1;31m:\u001b[0m invalid syntax\n"
          ]
        },
        {
          "name": "stderr",
          "output_type": "stream",
          "text": [
            "  DEPRECATION: ktml is being installed using the legacy 'setup.py install' method, because it does not have a 'pyproject.toml' and the 'wheel' package is not installed. pip 23.1 will enforce this behaviour change. A possible replacement is to enable the '--use-pep517' option. Discussion can be found at https://github.com/pypa/pip/issues/8559\n"
          ]
        }
      ],
      "source": [
        "# Run this to use from colab environment\n",
        "!git clone https://github.com/jveenland/tm10007_ml.git"
      ]
    },
    {
      "cell_type": "code",
      "execution_count": null,
      "metadata": {
        "colab": {
          "base_uri": "https://localhost:8080/"
        },
        "id": "-Ud1sGjVRaRw",
        "outputId": "50b0ad30-1ee8-4565-b7b1-e36a9d242063"
      },
      "outputs": [
        {
          "name": "stdout",
          "output_type": "stream",
          "text": [
            "/content/tm10007_ml/worcgist\n"
          ]
        }
      ],
      "source": [
        "%cd /content/tm10007_ml/worcgist"
      ]
    },
    {
      "cell_type": "code",
      "execution_count": null,
      "metadata": {},
      "outputs": [],
      "source": [
        "# ----- IMPORT LIBRARIES -----\n",
        "from pathlib import Path\n",
        "import pandas as pd\n",
        "\n",
        "from sklearn.preprocessing import MinMaxScaler\n",
        "from sklearn.model_selection import train_test_split"
      ]
    },
    {
      "cell_type": "code",
      "execution_count": null,
      "metadata": {
        "colab": {
          "base_uri": "https://localhost:8080/"
        },
        "id": "gOwJctD-Ri7N",
        "outputId": "1addb7c5-d544-4352-f1cf-67118e76a613"
      },
      "outputs": [
        {
          "name": "stdout",
          "output_type": "stream",
          "text": [
            "The number of samples: 246\n",
            "The number of columns: 494\n"
          ]
        }
      ],
      "source": [
        "dir = Path('.') / 'GIST_radiomicFeatures.csv'\n",
        "data = pd.read_csv(dir, index_col=0)\n",
        "\n",
        "print(f'The number of samples: {len(data.index)}')\n",
        "print(f'The number of columns: {len(data.columns)}')"
      ]
    },
    {
      "cell_type": "code",
      "execution_count": null,
      "metadata": {},
      "outputs": [],
      "source": [
        "\n",
        "# ----- SPLITTING THE DATA -----\n",
        "\n",
        "# Replace label values from string to binary\n",
        "data['label'] = data['label'].replace({'GIST': 1, 'non-GIST': 0})\n",
        "\n",
        "# Separate the features and labels\n",
        "X = data.drop(['label'], axis=1)\n",
        "y = data['label']\n",
        "\n",
        "# Split the data into random train and test sets\n",
        "X_train_tot, X_test, y_train_tot, y_test = train_test_split(X, y, test_size=0.2, random_state=42)\n",
        "\n",
        "# Split the data into train and validation sets\n",
        "X_train, X_val, y_train, y_val = train_test_split(X_train_tot, y_train_tot, test_size=0.15, random_state=42)\n",
        "print(X_train.shape)\n",
        "print(X_val.shape)"
      ]
    },
    {
      "cell_type": "code",
      "execution_count": null,
      "metadata": {},
      "outputs": [],
      "source": [
        "# ----- OUTLIERS -----\n",
        "\n",
        "def replace_outliers(data):\n",
        "    \"\"\"\n",
        "    Replaces the outliers in a DataFrame with the lower or upper bound.\n",
        "\n",
        "    :param data: The DataFrame to be filtered\n",
        "    :return: A new DataFrame with the outliers replaced by the lower or upper bound for each column\n",
        "    \"\"\"\n",
        "    # Calculate the lower and upper bounds based on each column's median and interquartile range\n",
        "    Q1 = data.quantile(0.25)\n",
        "    Q3 = data.quantile(0.75)\n",
        "    IQR = Q3 - Q1\n",
        "    lower_bound = Q1 - 1.5 * IQR\n",
        "    upper_bound = Q3 + 1.5 * IQR\n",
        "\n",
        "    # Replace the outliers with the lower or upper bound\n",
        "    for col in data.columns:\n",
        "        data[col] = data[col].apply(lambda x: upper_bound[col] if x > upper_bound[col] else x)\n",
        "        data[col] = data[col].apply(lambda x: lower_bound[col] if x < lower_bound[col] else x)\n",
        "\n",
        "    return data\n",
        "\n",
        "# Replace the outliers in each column with the lower or upper bound\n",
        "replace_outliers(X_train)\n",
        "\n",
        "# sns.boxplot(replaced_df[5])"
      ]
    },
    {
      "cell_type": "code",
      "execution_count": null,
      "metadata": {},
      "outputs": [],
      "source": [
        "# Data scaling\n",
        "scaler = MinMaxScaler()  # define scaler\n",
        "# scaler = RobustScaler()\n",
        "X_train = scaler.fit_transform(X_train)  # fit scaler on train set\n",
        "X_val = scaler.transform(X_val)  # apply fitted scaler on validation set\n",
        "X_test = scaler.transform(X_test)  # apply fitted scaler on test set"
      ]
    },
    {
      "cell_type": "code",
      "execution_count": null,
      "metadata": {},
      "outputs": [],
      "source": [
        "# Remove all constant (zero-variance) features\n",
        "X_train = pd.DataFrame(X_train)\n",
        "zero_var_filter = VarianceThreshold(threshold=0)\n",
        "\n",
        "# Fit on train data\n",
        "zero_var_filter.fit(X_train)\n",
        "zero_var_columns = [column for column in X_train.columns if column not in X_train.columns[zero_var_filter.get_support()]]\n",
        "\n",
        "# Apply on validation and test data\n",
        "X_train = zero_var_filter.transform(X_train)\n",
        "X_val = zero_var_filter.transform(X_val)\n",
        "X_test = zero_var_filter.transform(X_test)"
      ]
    },
    {
      "cell_type": "code",
      "execution_count": null,
      "metadata": {},
      "outputs": [],
      "source": [
        "# ----- Feature selection -----\n",
        "\n",
        "from sklearn.linear_model import Lasso\n",
        "\n",
        "lasso_selector = SelectFromModel(estimator=Lasso(alpha=10**(-10), max_iter=1000), threshold='median')\n",
        "lasso_selector.fit(X_train, y_train)\n",
        "lasso_list = [column for column in pd.DataFrame(X_train).columns[lasso_selector.get_support()]]\n",
        "n_original = X_train.shape[1]\n",
        "\n",
        "X_train = selector.transform(X_train)\n",
        "n_selected = X_train.shape[1]\n",
        "print(f\"Selected {n_selected} from {n_original} features.\")"
      ]
    },
    {
      "cell_type": "code",
      "execution_count": null,
      "metadata": {},
      "outputs": [],
      "source": [
        "X_train.shape"
      ]
    },
    {
      "cell_type": "code",
      "execution_count": null,
      "metadata": {},
      "outputs": [],
      "source": [
        "# ----- Feature extraction -----\n",
        "\n",
        "from sklearn.decomposition import PCA\n",
        "\n",
        "# 95% variance\n",
        "pca = PCA(n_components = 0.95)\n",
        "pca.fit(X_train)\n",
        "X_train = pca.transform(X_train)\n",
        "\n",
        "print(f\"Selected {X_train.shape[1]} features to be used for classification.\")"
      ]
    }
  ],
  "metadata": {
    "colab": {
      "authorship_tag": "ABX9TyMQ0ntJoc7JEeNev2VYxuu0",
      "include_colab_link": true,
      "provenance": []
    },
    "kernelspec": {
      "display_name": "Python 3",
      "name": "python3"
    },
    "language_info": {
      "codemirror_mode": {
        "name": "ipython",
        "version": 3
      },
      "file_extension": ".py",
      "mimetype": "text/x-python",
      "name": "python",
      "nbconvert_exporter": "python",
      "pygments_lexer": "ipython3",
      "version": "3.9.7"
    }
  },
  "nbformat": 4,
  "nbformat_minor": 0
}
