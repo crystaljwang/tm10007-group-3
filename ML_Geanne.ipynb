{
  "nbformat": 4,
  "nbformat_minor": 0,
  "metadata": {
    "colab": {
      "provenance": [],
      "authorship_tag": "ABX9TyMYsPB21luVSqXTUnmTBnfg",
      "include_colab_link": true
    },
    "kernelspec": {
      "name": "python3",
      "display_name": "Python 3"
    },
    "language_info": {
      "name": "python"
    }
  },
  "cells": [
    {
      "cell_type": "markdown",
      "metadata": {
        "id": "view-in-github",
        "colab_type": "text"
      },
      "source": [
        "<a href=\"https://colab.research.google.com/github/crystaljwang/tm10007_group_3/blob/validation/ML_Geanne.ipynb\" target=\"_parent\"><img src=\"https://colab.research.google.com/assets/colab-badge.svg\" alt=\"Open In Colab\"/></a>"
      ]
    },
    {
      "cell_type": "code",
      "source": [
        "# Import necessary libraries\n",
        "import pandas as pd\n",
        "import numpy as np\n",
        "from pathlib import Path\n",
        "\n",
        "\n",
        "from sklearn.preprocessing import StandardScaler\n",
        "from sklearn.pipeline import make_pipeline\n",
        "from sklearn.pipeline import Pipeline\n",
        "from sklearn.linear_model import LogisticRegression\n",
        "from sklearn.svm import SVC\n",
        "from sklearn.svm import LinearSVC\n",
        "from sklearn.neighbors import KNeighborsClassifier\n",
        "from sklearn.tree import DecisionTreeClassifier\n",
        "from sklearn.ensemble import RandomForestClassifier\n",
        "from sklearn.naive_bayes import GaussianNB\n",
        "from sklearn.model_selection import train_test_split\n",
        "from sklearn.feature_selection import SelectKBest, f_classif\n",
        "from sklearn.metrics import classification_report, accuracy_score, precision_score, recall_score, f1_score, confusion_matrix\n",
        "from sklearn import metrics\n"
      ],
      "metadata": {
        "id": "NjqPo2zw8OvI"
      },
      "execution_count": 48,
      "outputs": []
    },
    {
      "cell_type": "code",
      "source": [
        "\n",
        "# Run this to use from colab environment\n",
        "!pip install -q --upgrade git+https://github.com/jveenland/tm10007_ml.git\n",
        "\n",
        "\n",
        "# Run this to use from colab environment\n",
        "!git clone https://github.com/jveenland/tm10007_ml.git\n",
        "\n",
        "%cd /content/tm10007_ml/worcgist \n",
        "\n",
        "dir = Path('.') / 'GIST_radiomicFeatures.csv'\n",
        "data = pd.read_csv(dir, index_col=0)\n",
        "\n",
        "print(f'The number of samples: {len(data.index)}')\n",
        "print(f'The number of columns: {len(data.columns)}')"
      ],
      "metadata": {
        "colab": {
          "base_uri": "https://localhost:8080/"
        },
        "id": "8MS_YwFvkEw4",
        "outputId": "76359f7f-f555-4977-8f8c-5e3ebdef8cec"
      },
      "execution_count": 60,
      "outputs": [
        {
          "output_type": "stream",
          "name": "stdout",
          "text": [
            "  Preparing metadata (setup.py) ... \u001b[?25l\u001b[?25hdone\n",
            "fatal: destination path 'tm10007_ml' already exists and is not an empty directory.\n",
            "[Errno 2] No such file or directory: '/content/tm10007_ml/worcgist'\n",
            "/content/drive/MyDrive/Github/TM10007_ML/worcgist\n",
            "The number of samples: 246\n",
            "The number of columns: 494\n"
          ]
        }
      ]
    },
    {
      "cell_type": "code",
      "source": [
        "##DATA INFORMATION\n",
        "#get information to decide what scaler to use\n",
        "#get information to decide what feature selection to use\n",
        "#get information to decide what classifier to use"
      ],
      "metadata": {
        "id": "sQdP9ypNlGmC"
      },
      "execution_count": 61,
      "outputs": []
    },
    {
      "cell_type": "code",
      "source": [
        "##PREPROCESSING\n",
        "\n",
        "# Replace label values from string to binary\n",
        "data['label'] = data['label'].replace({'GIST': 1, 'non-GIST': 0})\n",
        "\n",
        "# Separate the features and labels\n",
        "X = data.drop(['label'], axis=1)\n",
        "y = data['label']\n"
      ],
      "metadata": {
        "id": "LfPP_a4YB312"
      },
      "execution_count": 73,
      "outputs": []
    },
    {
      "cell_type": "code",
      "source": [
        "##TRAIN-TEST SET\n",
        "\n",
        "# Split the data into training and testing sets\n",
        "X_train, X_test, y_train, y_test = train_test_split(X, y, test_size=0.2, random_state=42)"
      ],
      "metadata": {
        "id": "7416lv3HKRPm"
      },
      "execution_count": 74,
      "outputs": []
    },
    {
      "cell_type": "code",
      "source": [
        "##SCALING\n",
        "\n",
        "# Data scaling\n",
        "scaler = StandardScaler()  #define scaler\n",
        "X_train = scaler.fit_transform(X_train)  #fit scaler on train set\n",
        "X_test = scaler.transform(X_test)  #apply fitted scaler on test set"
      ],
      "metadata": {
        "id": "tkfTQMcngT_-"
      },
      "execution_count": 75,
      "outputs": []
    },
    {
      "cell_type": "code",
      "source": [
        "##FEATURE SELECTION\n",
        "\n",
        "# Perform feature selection on the training set\n",
        "selector = SelectKBest(f_classif, k=6)\n",
        "X_train = selector.fit_transform(X_train, y_train)\n",
        "\n",
        "# Apply the same feature selection to the test set\n",
        "X_test = selector.transform(X_test)\n"
      ],
      "metadata": {
        "colab": {
          "base_uri": "https://localhost:8080/"
        },
        "id": "4AHOupM4KFkp",
        "outputId": "41ccbea9-4838-439f-e3ce-f30f18e09604"
      },
      "execution_count": 76,
      "outputs": [
        {
          "output_type": "stream",
          "name": "stderr",
          "text": [
            "/usr/local/lib/python3.9/dist-packages/sklearn/feature_selection/_univariate_selection.py:112: UserWarning: Features [ 77  83  84  90  97 103 110 467 474 475 480 487 488] are constant.\n",
            "  warnings.warn(\"Features %s are constant.\" % constant_features_idx, UserWarning)\n",
            "/usr/local/lib/python3.9/dist-packages/sklearn/feature_selection/_univariate_selection.py:113: RuntimeWarning: invalid value encountered in true_divide\n",
            "  f = msb / msw\n"
          ]
        }
      ]
    },
    {
      "cell_type": "code",
      "source": [
        "##k-fold validation\n",
        "from sklearn.model_selection import KFold\n",
        "\n",
        "# Initialize the k-fold and set the number of splits\n",
        "kf = KFold(n_splits=8)\n",
        "\n",
        "model = RandomForestClassifier()\n",
        "fold = []\n",
        "acc_list = []\n",
        "auc_list = []\n",
        "cm_list = []\n",
        "\n",
        "# Split the data into training and testing sets\n",
        "for train_index, test_index in kf.split(X_train):\n",
        "    fold.append(test_index)\n",
        "    X_train2, X_val = X_train[train_index], X_train[test_index] #features for training  and testing \n",
        "    y_train2, y_val = y_train[train_index], y_train[test_index] # targets for training and testing \n",
        "    model.fit(X_train2, y_train2)\n",
        "    y_pred = model.predict(X_val)\n",
        "    acc_list.append(metrics.accuracy_score(y_val, y_pred))\n",
        "    fpr, tpr, _thresholds = metrics.roc_curve(y_val, y_pred)\n",
        "    auc_list.append(round(metrics.auc(fpr, tpr),2))\n",
        "    cm_list.append(confusion_matrix(y_val, y_pred))\n",
        "\n",
        "\n",
        "##VALIDATION\n",
        "# Plot Model validation\n",
        "result_df = pd.DataFrame({'Model':fold, 'Accuracy': acc_list, 'AUC': auc_list})\n",
        "result_df\n",
        "\n",
        "##final Validation\n",
        "\n",
        "\n"
      ],
      "metadata": {
        "colab": {
          "base_uri": "https://localhost:8080/",
          "height": 300
        },
        "id": "fpA9gC7mkucF",
        "outputId": "3a8448ca-ae47-43cd-fe5d-a94c044e1a73"
      },
      "execution_count": 77,
      "outputs": [
        {
          "output_type": "execute_result",
          "data": {
            "text/plain": [
              "                                               Model  Accuracy   AUC\n",
              "0  [0, 1, 2, 3, 4, 5, 6, 7, 8, 9, 10, 11, 12, 13,...  0.400000  0.40\n",
              "1  [25, 26, 27, 28, 29, 30, 31, 32, 33, 34, 35, 3...  0.480000  0.49\n",
              "2  [50, 51, 52, 53, 54, 55, 56, 57, 58, 59, 60, 6...  0.560000  0.56\n",
              "3  [75, 76, 77, 78, 79, 80, 81, 82, 83, 84, 85, 8...  0.760000  0.75\n",
              "4  [100, 101, 102, 103, 104, 105, 106, 107, 108, ...  0.708333  0.72\n",
              "5  [124, 125, 126, 127, 128, 129, 130, 131, 132, ...  0.625000  0.66\n",
              "6  [148, 149, 150, 151, 152, 153, 154, 155, 156, ...  0.541667  0.56\n",
              "7  [172, 173, 174, 175, 176, 177, 178, 179, 180, ...  0.500000  0.54"
            ],
            "text/html": [
              "\n",
              "  <div id=\"df-e05f9ae3-e9ff-4bf2-af5a-a046212cdc69\">\n",
              "    <div class=\"colab-df-container\">\n",
              "      <div>\n",
              "<style scoped>\n",
              "    .dataframe tbody tr th:only-of-type {\n",
              "        vertical-align: middle;\n",
              "    }\n",
              "\n",
              "    .dataframe tbody tr th {\n",
              "        vertical-align: top;\n",
              "    }\n",
              "\n",
              "    .dataframe thead th {\n",
              "        text-align: right;\n",
              "    }\n",
              "</style>\n",
              "<table border=\"1\" class=\"dataframe\">\n",
              "  <thead>\n",
              "    <tr style=\"text-align: right;\">\n",
              "      <th></th>\n",
              "      <th>Model</th>\n",
              "      <th>Accuracy</th>\n",
              "      <th>AUC</th>\n",
              "    </tr>\n",
              "  </thead>\n",
              "  <tbody>\n",
              "    <tr>\n",
              "      <th>0</th>\n",
              "      <td>[0, 1, 2, 3, 4, 5, 6, 7, 8, 9, 10, 11, 12, 13,...</td>\n",
              "      <td>0.400000</td>\n",
              "      <td>0.40</td>\n",
              "    </tr>\n",
              "    <tr>\n",
              "      <th>1</th>\n",
              "      <td>[25, 26, 27, 28, 29, 30, 31, 32, 33, 34, 35, 3...</td>\n",
              "      <td>0.480000</td>\n",
              "      <td>0.49</td>\n",
              "    </tr>\n",
              "    <tr>\n",
              "      <th>2</th>\n",
              "      <td>[50, 51, 52, 53, 54, 55, 56, 57, 58, 59, 60, 6...</td>\n",
              "      <td>0.560000</td>\n",
              "      <td>0.56</td>\n",
              "    </tr>\n",
              "    <tr>\n",
              "      <th>3</th>\n",
              "      <td>[75, 76, 77, 78, 79, 80, 81, 82, 83, 84, 85, 8...</td>\n",
              "      <td>0.760000</td>\n",
              "      <td>0.75</td>\n",
              "    </tr>\n",
              "    <tr>\n",
              "      <th>4</th>\n",
              "      <td>[100, 101, 102, 103, 104, 105, 106, 107, 108, ...</td>\n",
              "      <td>0.708333</td>\n",
              "      <td>0.72</td>\n",
              "    </tr>\n",
              "    <tr>\n",
              "      <th>5</th>\n",
              "      <td>[124, 125, 126, 127, 128, 129, 130, 131, 132, ...</td>\n",
              "      <td>0.625000</td>\n",
              "      <td>0.66</td>\n",
              "    </tr>\n",
              "    <tr>\n",
              "      <th>6</th>\n",
              "      <td>[148, 149, 150, 151, 152, 153, 154, 155, 156, ...</td>\n",
              "      <td>0.541667</td>\n",
              "      <td>0.56</td>\n",
              "    </tr>\n",
              "    <tr>\n",
              "      <th>7</th>\n",
              "      <td>[172, 173, 174, 175, 176, 177, 178, 179, 180, ...</td>\n",
              "      <td>0.500000</td>\n",
              "      <td>0.54</td>\n",
              "    </tr>\n",
              "  </tbody>\n",
              "</table>\n",
              "</div>\n",
              "      <button class=\"colab-df-convert\" onclick=\"convertToInteractive('df-e05f9ae3-e9ff-4bf2-af5a-a046212cdc69')\"\n",
              "              title=\"Convert this dataframe to an interactive table.\"\n",
              "              style=\"display:none;\">\n",
              "        \n",
              "  <svg xmlns=\"http://www.w3.org/2000/svg\" height=\"24px\"viewBox=\"0 0 24 24\"\n",
              "       width=\"24px\">\n",
              "    <path d=\"M0 0h24v24H0V0z\" fill=\"none\"/>\n",
              "    <path d=\"M18.56 5.44l.94 2.06.94-2.06 2.06-.94-2.06-.94-.94-2.06-.94 2.06-2.06.94zm-11 1L8.5 8.5l.94-2.06 2.06-.94-2.06-.94L8.5 2.5l-.94 2.06-2.06.94zm10 10l.94 2.06.94-2.06 2.06-.94-2.06-.94-.94-2.06-.94 2.06-2.06.94z\"/><path d=\"M17.41 7.96l-1.37-1.37c-.4-.4-.92-.59-1.43-.59-.52 0-1.04.2-1.43.59L10.3 9.45l-7.72 7.72c-.78.78-.78 2.05 0 2.83L4 21.41c.39.39.9.59 1.41.59.51 0 1.02-.2 1.41-.59l7.78-7.78 2.81-2.81c.8-.78.8-2.07 0-2.86zM5.41 20L4 18.59l7.72-7.72 1.47 1.35L5.41 20z\"/>\n",
              "  </svg>\n",
              "      </button>\n",
              "      \n",
              "  <style>\n",
              "    .colab-df-container {\n",
              "      display:flex;\n",
              "      flex-wrap:wrap;\n",
              "      gap: 12px;\n",
              "    }\n",
              "\n",
              "    .colab-df-convert {\n",
              "      background-color: #E8F0FE;\n",
              "      border: none;\n",
              "      border-radius: 50%;\n",
              "      cursor: pointer;\n",
              "      display: none;\n",
              "      fill: #1967D2;\n",
              "      height: 32px;\n",
              "      padding: 0 0 0 0;\n",
              "      width: 32px;\n",
              "    }\n",
              "\n",
              "    .colab-df-convert:hover {\n",
              "      background-color: #E2EBFA;\n",
              "      box-shadow: 0px 1px 2px rgba(60, 64, 67, 0.3), 0px 1px 3px 1px rgba(60, 64, 67, 0.15);\n",
              "      fill: #174EA6;\n",
              "    }\n",
              "\n",
              "    [theme=dark] .colab-df-convert {\n",
              "      background-color: #3B4455;\n",
              "      fill: #D2E3FC;\n",
              "    }\n",
              "\n",
              "    [theme=dark] .colab-df-convert:hover {\n",
              "      background-color: #434B5C;\n",
              "      box-shadow: 0px 1px 3px 1px rgba(0, 0, 0, 0.15);\n",
              "      filter: drop-shadow(0px 1px 2px rgba(0, 0, 0, 0.3));\n",
              "      fill: #FFFFFF;\n",
              "    }\n",
              "  </style>\n",
              "\n",
              "      <script>\n",
              "        const buttonEl =\n",
              "          document.querySelector('#df-e05f9ae3-e9ff-4bf2-af5a-a046212cdc69 button.colab-df-convert');\n",
              "        buttonEl.style.display =\n",
              "          google.colab.kernel.accessAllowed ? 'block' : 'none';\n",
              "\n",
              "        async function convertToInteractive(key) {\n",
              "          const element = document.querySelector('#df-e05f9ae3-e9ff-4bf2-af5a-a046212cdc69');\n",
              "          const dataTable =\n",
              "            await google.colab.kernel.invokeFunction('convertToInteractive',\n",
              "                                                     [key], {});\n",
              "          if (!dataTable) return;\n",
              "\n",
              "          const docLinkHtml = 'Like what you see? Visit the ' +\n",
              "            '<a target=\"_blank\" href=https://colab.research.google.com/notebooks/data_table.ipynb>data table notebook</a>'\n",
              "            + ' to learn more about interactive tables.';\n",
              "          element.innerHTML = '';\n",
              "          dataTable['output_type'] = 'display_data';\n",
              "          await google.colab.output.renderOutput(dataTable, element);\n",
              "          const docLink = document.createElement('div');\n",
              "          docLink.innerHTML = docLinkHtml;\n",
              "          element.appendChild(docLink);\n",
              "        }\n",
              "      </script>\n",
              "    </div>\n",
              "  </div>\n",
              "  "
            ]
          },
          "metadata": {},
          "execution_count": 77
        }
      ]
    },
    {
      "cell_type": "code",
      "source": [
        "##CLASSIFIERS\n",
        "\n",
        "# Prepare pipeline\n",
        "model_pipeline = []\n",
        "model_pipeline.append(LogisticRegression(solver='liblinear'))\n",
        "model_pipeline.append(SVC())\n",
        "model_pipeline.append(LinearSVC())\n",
        "model_pipeline.append(KNeighborsClassifier())\n",
        "model_pipeline.append(DecisionTreeClassifier())\n",
        "model_pipeline.append(RandomForestClassifier())\n",
        "model_pipeline.append(GaussianNB())\n",
        "\n",
        "model_list = ['LogisticRegression', 'SVC', 'Linear SVC', 'KNN', 'Decision Tree', 'Random Forest', 'Naive Bayes']\n",
        "acc_list = []\n",
        "auc_list = []\n",
        "cm_list = []\n",
        "\n",
        "# Execute pipeline\n",
        "for model in model_pipeline:\n",
        "  model.fit(X_train, y_train)\n",
        "  y_pred = model.predict(X_test)\n",
        "  acc_list.append(metrics.accuracy_score(y_test, y_pred))\n",
        "  fpr, tpr, _thresholds = metrics.roc_curve(y_test, y_pred)\n",
        "  auc_list.append(round(metrics.auc(fpr, tpr),2))\n",
        "  cm_list.append(confusion_matrix(y_test, y_pred))\n",
        "\n"
      ],
      "metadata": {
        "id": "oVada_ktJ9D_"
      },
      "execution_count": null,
      "outputs": []
    },
    {
      "cell_type": "code",
      "source": [
        "##VALIDATION\n",
        "# Plot Model validation\n",
        "result_df = pd.DataFrame({'Model':model_list, 'Accuracy': acc_list, 'AUC': auc_list})\n",
        "result_df"
      ],
      "metadata": {
        "id": "COsc7TjfKYEt"
      },
      "execution_count": null,
      "outputs": []
    },
    {
      "cell_type": "code",
      "execution_count": null,
      "metadata": {
        "id": "Pcw9oxuf2ACx"
      },
      "outputs": [],
      "source": [
        "# from google.colab import drive\n",
        "# drive.mount('/content/drive')"
      ]
    },
    {
      "cell_type": "code",
      "source": [],
      "metadata": {
        "id": "fQDyumbaZDbz"
      },
      "execution_count": null,
      "outputs": []
    },
    {
      "cell_type": "code",
      "source": [
        "# %cd /content/drive/MyDrive/Github/TM10007_ML/worcgist\n",
        "\n",
        "# # Data loading functions. Uncomment the one you want to use\n",
        "# from load_data import load_data\n",
        "# #from worclipo.load_data import load_data\n",
        "# #from worcliver.load_data import load_data\n",
        "# #from ecg.load_data import load_data\n",
        "\n",
        "\n",
        "# #load data\n",
        "# data = load_data()\n",
        "# print(f'The number of samples: {len(data.index)}')\n",
        "# print(f'The number of columns: {len(data.columns)}')\n",
        "# data.info()\n"
      ],
      "metadata": {
        "id": "goMnaQGn2qSk"
      },
      "execution_count": null,
      "outputs": []
    }
  ]
}