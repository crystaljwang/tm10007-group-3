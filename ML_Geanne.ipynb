{
  "nbformat": 4,
  "nbformat_minor": 0,
  "metadata": {
    "colab": {
      "provenance": [],
      "authorship_tag": "ABX9TyPwsxojUbtidEOupxv0uwLi",
      "include_colab_link": true
    },
    "kernelspec": {
      "name": "python3",
      "display_name": "Python 3"
    },
    "language_info": {
      "name": "python"
    }
  },
  "cells": [
    {
      "cell_type": "markdown",
      "metadata": {
        "id": "view-in-github",
        "colab_type": "text"
      },
      "source": [
        "<a href=\"https://colab.research.google.com/github/crystaljwang/tm10007_group_3/blob/preprocessing/ML_Geanne.ipynb\" target=\"_parent\"><img src=\"https://colab.research.google.com/assets/colab-badge.svg\" alt=\"Open In Colab\"/></a>"
      ]
    },
    {
      "cell_type": "code",
      "source": [
        "# Import necessary libraries\n",
        "import pandas as pd\n",
        "import numpy as np\n",
        "from pathlib import Path\n",
        "\n",
        "from sklearn.preprocessing import StandardScaler\n",
        "from sklearn.preprocessing import RobustScaler\n",
        "from sklearn.preprocessing import MinMaxScaler\n",
        "from sklearn.pipeline import make_pipeline\n",
        "from sklearn.pipeline import Pipeline\n",
        "from sklearn.linear_model import LogisticRegression\n",
        "from sklearn.svm import SVC\n",
        "from sklearn.svm import LinearSVC\n",
        "from sklearn.neighbors import KNeighborsClassifier\n",
        "from sklearn.tree import DecisionTreeClassifier\n",
        "from sklearn.ensemble import RandomForestClassifier\n",
        "from sklearn.naive_bayes import GaussianNB\n",
        "from sklearn.model_selection import train_test_split\n",
        "from sklearn.feature_selection import SelectKBest, f_classif\n",
        "from sklearn.metrics import classification_report, accuracy_score, precision_score, recall_score, f1_score, confusion_matrix\n",
        "from sklearn import metrics\n"
      ],
      "metadata": {
        "id": "NjqPo2zw8OvI"
      },
      "execution_count": 4,
      "outputs": []
    },
    {
      "cell_type": "code",
      "source": [
        "\n",
        "# Run this to use from colab environment\n",
        "!pip install -q --upgrade git+https://github.com/jveenland/tm10007_ml.git\n",
        "\n",
        "\n",
        "# Run this to use from colab environment\n",
        "!git clone https://github.com/jveenland/tm10007_ml.git\n",
        "\n",
        "%cd /content/tm10007_ml/worcgist \n",
        "\n",
        "dir = Path('.') / 'GIST_radiomicFeatures.csv'\n",
        "data = pd.read_csv(dir, index_col=0)\n",
        "\n",
        "print(f'The number of samples: {len(data.index)}')\n",
        "print(f'The number of columns: {len(data.columns)}')"
      ],
      "metadata": {
        "colab": {
          "base_uri": "https://localhost:8080/"
        },
        "id": "8MS_YwFvkEw4",
        "outputId": "cd43a7b1-a6ee-4084-db22-3d99c5a7d73b"
      },
      "execution_count": 5,
      "outputs": [
        {
          "output_type": "stream",
          "name": "stdout",
          "text": [
            "  Preparing metadata (setup.py) ... \u001b[?25l\u001b[?25hdone\n",
            "  Building wheel for ktml (setup.py) ... \u001b[?25l\u001b[?25hdone\n",
            "Cloning into 'tm10007_ml'...\n",
            "remote: Enumerating objects: 83, done.\u001b[K\n",
            "remote: Counting objects: 100% (22/22), done.\u001b[K\n",
            "remote: Compressing objects: 100% (10/10), done.\u001b[K\n",
            "remote: Total 83 (delta 13), reused 12 (delta 12), pack-reused 61\u001b[K\n",
            "Unpacking objects: 100% (83/83), 67.93 MiB | 13.70 MiB/s, done.\n",
            "/content/tm10007_ml/worcgist\n",
            "The number of samples: 246\n",
            "The number of columns: 494\n"
          ]
        }
      ]
    },
    {
      "cell_type": "code",
      "source": [
        "##DATA INFORMATION\n",
        "\n"
      ],
      "metadata": {
        "id": "sQdP9ypNlGmC"
      },
      "execution_count": null,
      "outputs": []
    },
    {
      "cell_type": "code",
      "source": [
        "##PREPROCESSING\n",
        "\n",
        "# Replace label values from string to binary\n",
        "data['label'] = data['label'].replace({'GIST': 1, 'non-GIST': 0})\n",
        "\n",
        "# Separate the features and labels\n",
        "X = data.drop(['label'], axis=1)\n",
        "y = data['label']\n"
      ],
      "metadata": {
        "id": "LfPP_a4YB312"
      },
      "execution_count": 80,
      "outputs": []
    },
    {
      "cell_type": "code",
      "source": [
        "##TRAIN-TEST SET\n",
        "\n",
        "# Split the data into training and testing sets\n",
        "X_train1, X_test, y_train1, y_test = train_test_split(X, y, test_size=0.2, random_state=42)\n",
        "\n",
        "# Split the data into train and validation sets\n",
        "X_train, X_val, y_train, y_val = train_test_split(X_train1, y_train1, test_size=0.15, random_state=42)"
      ],
      "metadata": {
        "id": "7416lv3HKRPm"
      },
      "execution_count": 81,
      "outputs": []
    },
    {
      "cell_type": "code",
      "source": [
        "##SCALING\n",
        "\n",
        "# Data scaling\n",
        "scaler = MinMaxScaler()  #define scaler\n",
        "# scaler = RobustScaler()\n",
        "X_train = scaler.fit_transform(X_train)  #fit scaler on train set\n",
        "X_val = scaler.transform(X_val)  #apply fitted scaler on validation set\n",
        "X_test = scaler.transform(X_test)  #apply fitted scaler on test set"
      ],
      "metadata": {
        "id": "tkfTQMcngT_-"
      },
      "execution_count": 82,
      "outputs": []
    },
    {
      "cell_type": "code",
      "source": [
        "# ----- FEATURE SELECTION -----\n",
        "from pathlib import Path\n",
        "from sklearn.preprocessing import StandardScaler\n",
        "from sklearn.feature_selection import SelectKBest, f_classif\n",
        "from sklearn.model_selection import train_test_split\n",
        "from sklearn.feature_selection import VarianceThreshold\n",
        "\n",
        "# Remove all constant (zero-variance) features\n",
        "X_train = pd.DataFrame(X_train)\n",
        "zero_var_filter = VarianceThreshold(threshold=0)\n",
        "\n",
        "#fit on train data\n",
        "zero_var_filter.fit(X_train)\n",
        "zero_var_columns = [column for column in X_train.columns if column not in X_train.columns[zero_var_filter.get_support()]]\n",
        "\n",
        "#apply on validation and test data\n",
        "X_train = zero_var_filter.transform(X_train)\n",
        "X_val = zero_var_filter.transform(X_val)\n",
        "X_test = zero_var_filter.transform(X_test)\n",
        "\n",
        "#make print of features removed\n",
        "# removed_features = [data.columns[index] for index in zero_var_columns]\n",
        "# print('The following constant features were removed:')\n",
        "# for feature in removed_features:\n",
        "#     print(f'- {feature}')\n",
        "\n",
        "\n"
      ],
      "metadata": {
        "id": "GaIcZOnb9ryz"
      },
      "execution_count": 83,
      "outputs": []
    },
    {
      "cell_type": "code",
      "source": [
        "X_train.shape"
      ],
      "metadata": {
        "colab": {
          "base_uri": "https://localhost:8080/"
        },
        "id": "OrJYiLWoRFLV",
        "outputId": "cf155ed1-98b7-455c-b751-65c87c2d61af"
      },
      "execution_count": 73,
      "outputs": [
        {
          "output_type": "execute_result",
          "data": {
            "text/plain": [
              "(166, 474)"
            ]
          },
          "metadata": {},
          "execution_count": 73
        }
      ]
    },
    {
      "cell_type": "code",
      "source": [
        "##FEATURE SELECTION\n",
        "\n",
        "# Perform feature selection on the training set\n",
        "selector = SelectKBest(f_classif, k=30)\n",
        "X_train = selector.fit_transform(X_train, y_train)\n",
        "\n",
        "# Apply the same feature selection to the test & validation set\n",
        "X_val = selector.transform(X_val)\n",
        "X_test = selector.transform(X_test)\n"
      ],
      "metadata": {
        "id": "4AHOupM4KFkp"
      },
      "execution_count": 36,
      "outputs": []
    },
    {
      "cell_type": "code",
      "source": [
        "## PCA\n",
        "from sklearn.decomposition import PCA\n",
        "\n",
        "pca = PCA(n_components=0.95)\n",
        "pca_features = pca.fit_transform(X_train)\n",
        "\n",
        "print('Shape before PCA: ', X_train.shape)\n",
        "print('Shape after PCA: ', pca_features.shape)\n",
        "\n",
        "import matplotlib.pyplot as plt\n",
        "plt.scatter(pca_features[:,0],pca_features[:,1], c=y_train) \n",
        "plt.show()"
      ],
      "metadata": {
        "colab": {
          "base_uri": "https://localhost:8080/",
          "height": 465
        },
        "id": "P-3_XYW59Hvl",
        "outputId": "025edf17-51da-4406-a723-242743970bd3"
      },
      "execution_count": 84,
      "outputs": [
        {
          "output_type": "stream",
          "name": "stdout",
          "text": [
            "Shape before PCA:  (166, 474)\n",
            "Shape after PCA:  (166, 49)\n"
          ]
        },
        {
          "output_type": "display_data",
          "data": {
            "text/plain": [
              "<Figure size 640x480 with 1 Axes>"
            ],
            "image/png": "[encoded data removed]"
          },
          "metadata": {}
        }
      ]
    },
    {
      "cell_type": "code",
      "source": [
        "##CLASSIFIERS\n",
        "\n",
        "# Prepare pipeline\n",
        "model_pipeline = []\n",
        "model_pipeline.append(LogisticRegression(max_iter = 1000))\n",
        "model_pipeline.append(SVC())\n",
        "model_pipeline.append(LinearSVC())\n",
        "model_pipeline.append(KNeighborsClassifier(n_neighbors=20))\n",
        "model_pipeline.append(DecisionTreeClassifier())\n",
        "model_pipeline.append(RandomForestClassifier())\n",
        "model_pipeline.append(GaussianNB())\n",
        "\n",
        "model_list = ['LogisticRegression', 'SVC', 'Linear SVC', 'KNN', 'Decision Tree', 'Random Forest', 'Naive Bayes']\n",
        "acc_list = []\n",
        "auc_list = []\n",
        "cm_list = []\n",
        "\n",
        "# Execute pipeline\n",
        "for model in model_pipeline:\n",
        "  model.fit(X_train, y_train)\n",
        "  y_pred = model.predict(X_val)\n",
        "  acc_list.append(metrics.accuracy_score(y_val, y_pred))\n",
        "  fpr, tpr, _thresholds = metrics.roc_curve(y_val, y_pred)\n",
        "  auc_list.append(round(metrics.auc(fpr, tpr),2))\n",
        "  cm_list.append(confusion_matrix(y_val, y_pred))\n",
        "\n"
      ],
      "metadata": {
        "id": "oVada_ktJ9D_",
        "colab": {
          "base_uri": "https://localhost:8080/"
        },
        "outputId": "e23f7ed7-23e0-4a53-d577-50a9bec34879"
      },
      "execution_count": 53,
      "outputs": [
        {
          "output_type": "stream",
          "name": "stderr",
          "text": [
            "/usr/local/lib/python3.9/dist-packages/sklearn/svm/_base.py:1244: ConvergenceWarning: Liblinear failed to converge, increase the number of iterations.\n",
            "  warnings.warn(\n"
          ]
        }
      ]
    },
    {
      "cell_type": "code",
      "source": [
        "##Hyperparameters KNN classifier\n",
        "\n",
        "import numpy as np\n",
        "from sklearn.feature_selection import SelectKBest,f_regression\n",
        "from sklearn.pipeline import Pipeline\n",
        "from sklearn.linear_model import LinearRegression\n",
        "from sklearn.neighbors import KNeighborsRegressor\n",
        "from sklearn.preprocessing import StandardScaler\n",
        "from sklearn.ensemble import RandomForestRegressor\n",
        "from sklearn.model_selection import GridSearchCV\n",
        "from sklearn.metrics import mean_squared_error\n",
        "from sklearn.neighbors import KNeighborsClassifier\n",
        "from sklearn.ensemble import GradientBoostingClassifier, RandomForestClassifier\n",
        "from sklearn.linear_model import LogisticRegression, RidgeClassifier\n",
        "from sklearn import svm\n",
        "\n",
        "pipeline = Pipeline(\n",
        "    [\n",
        "     ('selector',SelectKBest()),\n",
        "     ('model', KNeighborsClassifier())\n",
        "    ]\n",
        ")\n",
        "     \n",
        "search = GridSearchCV(\n",
        "    estimator = pipeline,\n",
        "    param_grid = {'selector__k':list(range(1,51,2)) , \n",
        "                  'model__n_neighbors': list(range(1,51,2)), \n",
        "                  'model__weights': ['uniform', 'distance'],\n",
        "                  'model__metric': ['euclidean', 'manhattan', 'minkowski']},\n",
        "    scoring=\"roc_auc\",\n",
        "    cv=5,\n",
        "    verbose=3,\n",
        "    n_jobs=-1)\n",
        "\n",
        "search.fit(X_train,y_train)\n",
        "print(search.best_params_)\n",
        "\n"
      ],
      "metadata": {
        "colab": {
          "base_uri": "https://localhost:8080/"
        },
        "id": "EHVslqzmGF5E",
        "outputId": "86abe5d3-667b-464e-b4db-c6d83f6b2aad"
      },
      "execution_count": 90,
      "outputs": [
        {
          "output_type": "stream",
          "name": "stdout",
          "text": [
            "Fitting 5 folds for each of 3750 candidates, totalling 18750 fits\n",
            "{'model__metric': 'euclidean', 'model__n_neighbors': 41, 'model__weights': 'uniform', 'selector__k': 49}\n"
          ]
        }
      ]
    },
    {
      "cell_type": "code",
      "source": [
        "print(search.best_params_)\n",
        "print(search.best_score_)\n",
        "\n",
        "y_pred = search.predict(X_val)\n",
        "acc = (metrics.accuracy_score(y_val, y_pred))\n",
        "fpr, tpr, _thresholds = metrics.roc_curve(y_val, y_pred)\n",
        "auc = (round(metrics.auc(fpr, tpr),2))\n",
        "\n",
        "print(auc)\n",
        "print(acc)\n",
        "\n"
      ],
      "metadata": {
        "colab": {
          "base_uri": "https://localhost:8080/"
        },
        "id": "HoJnM8o4VdE9",
        "outputId": "ccef4a55-52fc-4ec3-9308-7d7955ee8f47"
      },
      "execution_count": 101,
      "outputs": [
        {
          "output_type": "stream",
          "name": "stdout",
          "text": [
            "0.7123918685121107\n",
            "0.53\n",
            "0.5333333333333333\n"
          ]
        }
      ]
    },
    {
      "cell_type": "code",
      "source": [
        "##VALIDATION\n",
        "# Plot Model validation\n",
        "result_df = pd.DataFrame({'Model':model_list, 'Accuracy': acc_list, 'AUC': auc_list})\n",
        "result_df"
      ],
      "metadata": {
        "colab": {
          "base_uri": "https://localhost:8080/",
          "height": 269
        },
        "id": "COsc7TjfKYEt",
        "outputId": "cc743b6c-5ade-46fd-a971-5b3a9e9d0736"
      },
      "execution_count": null,
      "outputs": [
        {
          "output_type": "execute_result",
          "data": {
            "text/plain": [
              "                Model  Accuracy   AUC\n",
              "0  LogisticRegression  0.566667  0.57\n",
              "1                 SVC  0.566667  0.57\n",
              "2          Linear SVC  0.533333  0.53\n",
              "3                 KNN  0.633333  0.63\n",
              "4       Decision Tree  0.500000  0.50\n",
              "5       Random Forest  0.566667  0.57\n",
              "6         Naive Bayes  0.566667  0.57"
            ],
            "text/html": [
              "\n",
              "  <div id=\"df-10cc14a0-8e33-4784-aa24-4ca3d1b2d471\">\n",
              "    <div class=\"colab-df-container\">\n",
              "      <div>\n",
              "<style scoped>\n",
              "    .dataframe tbody tr th:only-of-type {\n",
              "        vertical-align: middle;\n",
              "    }\n",
              "\n",
              "    .dataframe tbody tr th {\n",
              "        vertical-align: top;\n",
              "    }\n",
              "\n",
              "    .dataframe thead th {\n",
              "        text-align: right;\n",
              "    }\n",
              "</style>\n",
              "<table border=\"1\" class=\"dataframe\">\n",
              "  <thead>\n",
              "    <tr style=\"text-align: right;\">\n",
              "      <th></th>\n",
              "      <th>Model</th>\n",
              "      <th>Accuracy</th>\n",
              "      <th>AUC</th>\n",
              "    </tr>\n",
              "  </thead>\n",
              "  <tbody>\n",
              "    <tr>\n",
              "      <th>0</th>\n",
              "      <td>LogisticRegression</td>\n",
              "      <td>0.566667</td>\n",
              "      <td>0.57</td>\n",
              "    </tr>\n",
              "    <tr>\n",
              "      <th>1</th>\n",
              "      <td>SVC</td>\n",
              "      <td>0.566667</td>\n",
              "      <td>0.57</td>\n",
              "    </tr>\n",
              "    <tr>\n",
              "      <th>2</th>\n",
              "      <td>Linear SVC</td>\n",
              "      <td>0.533333</td>\n",
              "      <td>0.53</td>\n",
              "    </tr>\n",
              "    <tr>\n",
              "      <th>3</th>\n",
              "      <td>KNN</td>\n",
              "      <td>0.633333</td>\n",
              "      <td>0.63</td>\n",
              "    </tr>\n",
              "    <tr>\n",
              "      <th>4</th>\n",
              "      <td>Decision Tree</td>\n",
              "      <td>0.500000</td>\n",
              "      <td>0.50</td>\n",
              "    </tr>\n",
              "    <tr>\n",
              "      <th>5</th>\n",
              "      <td>Random Forest</td>\n",
              "      <td>0.566667</td>\n",
              "      <td>0.57</td>\n",
              "    </tr>\n",
              "    <tr>\n",
              "      <th>6</th>\n",
              "      <td>Naive Bayes</td>\n",
              "      <td>0.566667</td>\n",
              "      <td>0.57</td>\n",
              "    </tr>\n",
              "  </tbody>\n",
              "</table>\n",
              "</div>\n",
              "      <button class=\"colab-df-convert\" onclick=\"convertToInteractive('df-10cc14a0-8e33-4784-aa24-4ca3d1b2d471')\"\n",
              "              title=\"Convert this dataframe to an interactive table.\"\n",
              "              style=\"display:none;\">\n",
              "        \n",
              "  <svg xmlns=\"http://www.w3.org/2000/svg\" height=\"24px\"viewBox=\"0 0 24 24\"\n",
              "       width=\"24px\">\n",
              "    <path d=\"M0 0h24v24H0V0z\" fill=\"none\"/>\n",
              "    <path d=\"M18.56 5.44l.94 2.06.94-2.06 2.06-.94-2.06-.94-.94-2.06-.94 2.06-2.06.94zm-11 1L8.5 8.5l.94-2.06 2.06-.94-2.06-.94L8.5 2.5l-.94 2.06-2.06.94zm10 10l.94 2.06.94-2.06 2.06-.94-2.06-.94-.94-2.06-.94 2.06-2.06.94z\"/><path d=\"M17.41 7.96l-1.37-1.37c-.4-.4-.92-.59-1.43-.59-.52 0-1.04.2-1.43.59L10.3 9.45l-7.72 7.72c-.78.78-.78 2.05 0 2.83L4 21.41c.39.39.9.59 1.41.59.51 0 1.02-.2 1.41-.59l7.78-7.78 2.81-2.81c.8-.78.8-2.07 0-2.86zM5.41 20L4 18.59l7.72-7.72 1.47 1.35L5.41 20z\"/>\n",
              "  </svg>\n",
              "      </button>\n",
              "      \n",
              "  <style>\n",
              "    .colab-df-container {\n",
              "      display:flex;\n",
              "      flex-wrap:wrap;\n",
              "      gap: 12px;\n",
              "    }\n",
              "\n",
              "    .colab-df-convert {\n",
              "      background-color: #E8F0FE;\n",
              "      border: none;\n",
              "      border-radius: 50%;\n",
              "      cursor: pointer;\n",
              "      display: none;\n",
              "      fill: #1967D2;\n",
              "      height: 32px;\n",
              "      padding: 0 0 0 0;\n",
              "      width: 32px;\n",
              "    }\n",
              "\n",
              "    .colab-df-convert:hover {\n",
              "      background-color: #E2EBFA;\n",
              "      box-shadow: 0px 1px 2px rgba(60, 64, 67, 0.3), 0px 1px 3px 1px rgba(60, 64, 67, 0.15);\n",
              "      fill: #174EA6;\n",
              "    }\n",
              "\n",
              "    [theme=dark] .colab-df-convert {\n",
              "      background-color: #3B4455;\n",
              "      fill: #D2E3FC;\n",
              "    }\n",
              "\n",
              "    [theme=dark] .colab-df-convert:hover {\n",
              "      background-color: #434B5C;\n",
              "      box-shadow: 0px 1px 3px 1px rgba(0, 0, 0, 0.15);\n",
              "      filter: drop-shadow(0px 1px 2px rgba(0, 0, 0, 0.3));\n",
              "      fill: #FFFFFF;\n",
              "    }\n",
              "  </style>\n",
              "\n",
              "      <script>\n",
              "        const buttonEl =\n",
              "          document.querySelector('#df-10cc14a0-8e33-4784-aa24-4ca3d1b2d471 button.colab-df-convert');\n",
              "        buttonEl.style.display =\n",
              "          google.colab.kernel.accessAllowed ? 'block' : 'none';\n",
              "\n",
              "        async function convertToInteractive(key) {\n",
              "          const element = document.querySelector('#df-10cc14a0-8e33-4784-aa24-4ca3d1b2d471');\n",
              "          const dataTable =\n",
              "            await google.colab.kernel.invokeFunction('convertToInteractive',\n",
              "                                                     [key], {});\n",
              "          if (!dataTable) return;\n",
              "\n",
              "          const docLinkHtml = 'Like what you see? Visit the ' +\n",
              "            '<a target=\"_blank\" href=https://colab.research.google.com/notebooks/data_table.ipynb>data table notebook</a>'\n",
              "            + ' to learn more about interactive tables.';\n",
              "          element.innerHTML = '';\n",
              "          dataTable['output_type'] = 'display_data';\n",
              "          await google.colab.output.renderOutput(dataTable, element);\n",
              "          const docLink = document.createElement('div');\n",
              "          docLink.innerHTML = docLinkHtml;\n",
              "          element.appendChild(docLink);\n",
              "        }\n",
              "      </script>\n",
              "    </div>\n",
              "  </div>\n",
              "  "
            ]
          },
          "metadata": {},
          "execution_count": 86
        }
      ]
    },
    {
      "cell_type": "code",
      "execution_count": null,
      "metadata": {
        "id": "Pcw9oxuf2ACx"
      },
      "outputs": [],
      "source": [
        "# from google.colab import drive\n",
        "# drive.mount('/content/drive')"
      ]
    },
    {
      "cell_type": "code",
      "source": [],
      "metadata": {
        "id": "fQDyumbaZDbz"
      },
      "execution_count": null,
      "outputs": []
    },
    {
      "cell_type": "code",
      "source": [
        "# %cd /content/drive/MyDrive/Github/TM10007_ML/worcgist\n",
        "\n",
        "# # Data loading functions. Uncomment the one you want to use\n",
        "# from load_data import load_data\n",
        "# #from worclipo.load_data import load_data\n",
        "# #from worcliver.load_data import load_data\n",
        "# #from ecg.load_data import load_data\n",
        "\n",
        "\n",
        "# #load data\n",
        "# data = load_data()\n",
        "# print(f'The number of samples: {len(data.index)}')\n",
        "# print(f'The number of columns: {len(data.columns)}')\n",
        "# data.info()\n"
      ],
      "metadata": {
        "id": "goMnaQGn2qSk"
      },
      "execution_count": null,
      "outputs": []
    },
    {
      "cell_type": "code",
      "source": [
        "##FEATURE SELECTION\n",
        "from sklearn.feature_selection import RFECV\n",
        "from sklearn.model_selection import StratifiedKFold\n",
        "from sklearn.linear_model import LogisticRegression\n",
        "\n",
        "min_features_to_select = 1  # Minimum number of features to consider\n",
        "clf = LogisticRegression(max_iter=1000)\n",
        "#clf = KNeighborsClassifier()\n",
        "cv = StratifiedKFold(5)\n",
        "\n",
        "\n",
        "rfecv = RFECV(\n",
        "    estimator=clf,\n",
        "    step=1,\n",
        "    cv=cv,\n",
        "    scoring=\"accuracy\",\n",
        "    min_features_to_select=min_features_to_select,\n",
        "    n_jobs=2,\n",
        ")\n",
        "\n",
        "rfecv.fit(X_train, y_train)\n",
        "# X_test = rfecv.transform(X_test) # Apply the same feature selection to the test set\n",
        "\n",
        "print(f\"Optimal number of features: {rfecv.n_features_}\")"
      ],
      "metadata": {
        "id": "iP8pwKTQ9TdH"
      },
      "execution_count": null,
      "outputs": []
    },
    {
      "cell_type": "code",
      "source": [
        "import matplotlib.pyplot as plt\n",
        "\n",
        "n_scores = len(rfecv.cv_results_[\"mean_test_score\"])\n",
        "plt.figure()\n",
        "plt.xlabel(\"Number of features selected\")\n",
        "plt.ylabel(\"Mean test accuracy\")\n",
        "plt.errorbar(\n",
        "    range(min_features_to_select, n_scores + min_features_to_select),\n",
        "    rfecv.cv_results_[\"mean_test_score\"],\n",
        "    yerr=rfecv.cv_results_[\"std_test_score\"],\n",
        ")\n",
        "plt.title(\"Recursive Feature Elimination \\nwith correlated features\")\n",
        "plt.show()"
      ],
      "metadata": {
        "id": "XhT2caqb9f2g"
      },
      "execution_count": null,
      "outputs": []
    },
    {
      "cell_type": "code",
      "source": [
        "from sklearn.ensemble import VotingClassifier\n",
        "from sklearn.model_selection import KFold\n",
        "\n",
        "# Initialize the k-fold and set the number of splits\n",
        "kf = KFold(n_splits=5)\n",
        "\n",
        "# Initialize model for each fold\n",
        "models = []\n",
        "for train_index, test_index in kf.split(X_train):\n",
        "    X_train2, X_val = X_train[train_index], X_train[test_index]\n",
        "    y_train2, y_val = y_train[train_index], y_train[test_index]\n",
        "    model = LogisticRegression(max_iter=1000)\n",
        "    model.fit(X_train2, y_train2)\n",
        "    models.append(model)\n",
        "\n",
        "# Combine the models using the voting technique\n",
        "ensemble = VotingClassifier(estimators=[('model'+str(i+1), models[i]) for i in range(len(models))], voting='hard')\n",
        "\n",
        "# Make predictions on the test set using the ensemble model\n",
        "ensemble.fit(X_train, y_train)\n",
        "y_pred = ensemble.predict(X_val)\n",
        "\n",
        "# Evaluate the performance of the ensemble model\n",
        "acc = metrics.accuracy_score(y_val, y_pred)\n",
        "fpr, tpr, _thresholds = metrics.roc_curve(y_val, y_pred)\n",
        "auc = round(metrics.auc(fpr, tpr),2)\n",
        "\n",
        "print('Accuracy:', acc)\n",
        "print('AUC:', auc)"
      ],
      "metadata": {
        "colab": {
          "base_uri": "https://localhost:8080/"
        },
        "id": "AAJfSn37uJCm",
        "outputId": "438d708d-2f4f-4cfa-94d4-8a27b0bed17b"
      },
      "execution_count": null,
      "outputs": [
        {
          "output_type": "stream",
          "name": "stdout",
          "text": [
            "Accuracy: 0.48484848484848486\n",
            "AUC: 0.5\n"
          ]
        }
      ]
    },
    {
      "cell_type": "code",
      "source": [
        "##k-fold validation\n",
        "from sklearn.model_selection import StratifiedKFold\n",
        "\n",
        "# Initialize the k-fold and set the number of splits\n",
        "kf = StratifiedKFold(n_splits=5)\n",
        "\n",
        "model = LogisticRegression(max_iter=1000)\n",
        "acc_list = []\n",
        "auc_list = []\n",
        "cm_list = []\n",
        "\n",
        "# Split the data into training and testing sets\n",
        "for train_index, test_index in kf.split(X_train, y_train):\n",
        "    X_train2, X_val = X_train[train_index], X_train[test_index] #features for training  and testing \n",
        "    y_train2, y_val = y_train[train_index], y_train[test_index] # targets for training and testing \n",
        "    model.fit(X_train2, y_train2)\n",
        "    y_pred = model.predict(X_val)\n",
        "    acc_list.append(metrics.accuracy_score(y_val, y_pred))\n",
        "    fpr, tpr, _thresholds = metrics.roc_curve(y_val, y_pred)\n",
        "    auc_list.append(round(metrics.auc(fpr, tpr),2))\n",
        "    cm_list.append(confusion_matrix(y_val, y_pred))\n",
        "\n",
        "\n",
        "##VALIDATION\n",
        "# Plot Model validation\n",
        "result_df = pd.DataFrame({'Accuracy': acc_list, 'AUC': auc_list})\n",
        "print(result_df)\n",
        "\n",
        "print(f\"Min Accuracy is {min(acc_list)} and Max Accuracy is {max(acc_list)}\")\n",
        "print(f\"Min AUC is {min(auc_list)} and Max AUC is {max(auc_list)}\")\n",
        "\n",
        "##final Validation\n",
        "\n",
        "\n"
      ],
      "metadata": {
        "id": "fpA9gC7mkucF"
      },
      "execution_count": null,
      "outputs": []
    }
  ]
}